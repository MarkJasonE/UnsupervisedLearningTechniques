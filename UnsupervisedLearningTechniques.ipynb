{
 "cells": [
  {
   "cell_type": "code",
   "execution_count": 123,
   "metadata": {},
   "outputs": [],
   "source": [
    "import os\n",
    "import urllib.request\n",
    "from timeit import timeit\n",
    "import sklearn\n",
    "from sklearn.datasets import load_iris, make_blobs, fetch_openml, load_digits, make_moons\n",
    "from sklearn.mixture import GaussianMixture\n",
    "from sklearn.cluster import KMeans, MiniBatchKMeans, DBSCAN, SpectralClustering, AgglomerativeClustering\n",
    "from sklearn.linear_model import LogisticRegression\n",
    "from sklearn.model_selection import train_test_split, GridSearchCV\n",
    "from sklearn.neighbors import KNeighborsClassifier\n",
    "from sklearn.pipeline import Pipeline\n",
    "from sklearn.metrics import silhouette_score, silhouette_samples\n",
    "import numpy as np\n",
    "from scipy import stats\n",
    "import matplotlib as mpl\n",
    "import matplotlib.pyplot as plt\n",
    "from matplotlib.image import imread\n",
    "from matplotlib.ticker import FixedLocator, FixedFormatter\n",
    "\n",
    "#To make the notebook's output stabel across runs\n",
    "np.random.seed(42)\n",
    "\n",
    "#Uses Jupyter's own backend to plot\n",
    "%matplotlib inline\n",
    "\n",
    "#To make pretty figures\n",
    "mpl.rc(\"axes\", labelsize=14)\n",
    "mpl.rc(\"xtick\", labelsize=12)\n",
    "mpl.rc(\"ytick\", labelsize=12)\n",
    "\n",
    "#Path to saving images\n",
    "IMAGE_PATH = os.path.join(\"images\")\n",
    "os.makedirs(IMAGE_PATH, exist_ok=True)\n",
    "\n",
    "def save_fig(fig_id, fig_extension=\"png\", tight_layout=True, resolution=300):\n",
    "    path = os.path.join(IMAGE_PATH, fig_id + \".\" + fig_extension)\n",
    "    print(\"Saving figure,\", fig_id)\n",
    "    if tight_layout:\n",
    "        plt.tight_layout()\n",
    "    plt.savefig(path, format=fig_extension, dpi=resolution)"
   ]
  },
  {
   "cell_type": "markdown",
   "metadata": {},
   "source": [
    "Most applications of Machine Learning today are based on supervised learning, yet the vast majority of the available data is unlabeled: **we have input feature X, but we don't have the labels y.** Therefore, there is a huge potential in unsupervised learning.\n",
    "\n",
    "Labeling data requires human experts to go through all the data, which is long costly and tedious task, even for a small subset from of a large dataset. Thus the labeled dataset will quite small, resulting in a poor performance from a classifier. Additionally, every time a company makes any changes to its products, the whole process will need to be started from scratch. \n",
    "\n",
    "**Unsupervised learning aims to exploit the unlabeled data without needing humans to label every instance in the dataset/subset.**"
   ]
  },
  {
   "cell_type": "markdown",
   "metadata": {},
   "source": [
    "Dimensionality reduction is one of the common tasks for unsupervised learning and was discussed in a previous notebook. Thus, we'll focus on a few more unsupervised learning tasks and algorithms:\n",
    "- **Clustering**\n",
    "    - The goal is to group similar instacnes together into _clusters_. Clustering is a great tool for data analysis, customer segmentation, recommender systems, search engines, image segmentation, semi-supervised learning, dimensionality reduction and more.\n",
    "\n",
    "- **Anomaly detection**\n",
    "    - The objective is to learn what \"normal\" data looks like, and then use that to detect abnormal instances, such as defective items on a production line or a new trend in a time series.\n",
    "\n",
    "- **Density estimation**\n",
    "    - This is the task of estimating the _probabilty density function_ (PDF) of the random process that generated the dataset. Density estimation is commonly used for anomaly detection: instances that are located in very low-dimensional regions are more likely to be anomalies. It's also useful for data analysis and visualization."
   ]
  },
  {
   "cell_type": "markdown",
   "metadata": {},
   "source": [
    "We'll look at **clustering** first, using K-Means and DBSCAN. Then, discuss Gaussian mixture models and see how they can be used for density estimation, clustering and anomaly detection"
   ]
  },
  {
   "cell_type": "markdown",
   "metadata": {},
   "source": [
    "# Section: Clustering"
   ]
  },
  {
   "cell_type": "markdown",
   "metadata": {},
   "source": [
    "***Clustering*** is a task that identifies similar instances and assigning them to _clusters_ or groups of similar instances. It's just like classification, but clustering is an **unsupervised task.** \n",
    "\n",
    "In the following figure (figure 9-1), **on the left** is the iris dataset, where each instance's species is represented with a different marker. It's a labeled dataset, so classfication algorithms such as Logistic Regression, SVMs or Random Forest classfiers are well suited.\n",
    "\n",
    "**On the righ** is the same dataset, but without labels, thus classifications algorithms are of no use. This is where clustering algorithms comes in, many of them can easily detect the lower-left cluster. \n",
    "\n",
    "The dataset has two additional features (sepal length and width), not represented here, and clustering algorithms can make good use of all features, so in fact they identify the three clusters fairly well - when we use Gaussian mixture model, only 5/150 are assigned to the wrong cluster (96.66% success rate)."
   ]
  },
  {
   "cell_type": "code",
   "execution_count": 3,
   "metadata": {},
   "outputs": [
    {
     "data": {
      "text/plain": [
       "array(['setosa', 'versicolor', 'virginica'], dtype='<U10')"
      ]
     },
     "execution_count": 3,
     "metadata": {},
     "output_type": "execute_result"
    }
   ],
   "source": [
    "iris = load_iris()\n",
    "X = iris.data\n",
    "y = iris.target\n",
    "iris.target_names"
   ]
  },
  {
   "cell_type": "code",
   "execution_count": 4,
   "metadata": {},
   "outputs": [
    {
     "name": "stdout",
     "output_type": "stream",
     "text": [
      "Saving figure, Unsupervised Learning Techniques - Classification vs clustering\n"
     ]
    },
    {
     "data": {
      "image/png": "[encoded data removed]",
      "text/plain": [
       "<Figure size 720x252 with 2 Axes>"
      ]
     },
     "metadata": {
      "needs_background": "light"
     },
     "output_type": "display_data"
    },
    {
     "name": "stdout",
     "output_type": "stream",
     "text": [
      "Figure 9-1\n"
     ]
    }
   ],
   "source": [
    "plt.figure(figsize=(10, 3.5))\n",
    "\n",
    "plt.subplot(121)\n",
    "plt.plot(X[y==0, 2], X[y==0, 3], \"yo\", label=\"Iris Setosa\")\n",
    "plt.plot(X[y==1, 2], X[y==1, 3], \"bs\", label=\"Iris Versicolor\")\n",
    "plt.plot(X[y==2, 2], X[y==2, 3], \"g^\", label=\"Iris Virginica\")\n",
    "plt.xlabel(\"Petal Length\", fontsize=14)\n",
    "plt.ylabel(\"Petal Width\", fontsize=14)\n",
    "plt.legend(loc=\"upper left\", fontsize=14)\n",
    "\n",
    "plt.subplot(122)\n",
    "plt.scatter(X[:, 2], X[:, 3], c=\"k\", marker=\".\")\n",
    "plt.xlabel(\"Petal Length\", fontsize=14)\n",
    "plt.tick_params(labelleft=False)\n",
    "\n",
    "save_fig(\"Unsupervised Learning Techniques - Classification vs clustering\")\n",
    "plt.show()\n",
    "print(\"Figure 9-1\")"
   ]
  },
  {
   "cell_type": "markdown",
   "metadata": {},
   "source": [
    "    - A Gaussian mixture model can help separate these clusters pretty well using all 4 features: petal length and width, and sepal length and width"
   ]
  },
  {
   "cell_type": "code",
   "execution_count": 5,
   "metadata": {},
   "outputs": [],
   "source": [
    "y_pred = GaussianMixture(n_components=3, random_state=42).fit(X).predict(X)"
   ]
  },
  {
   "cell_type": "markdown",
   "metadata": {},
   "source": [
    "    - Let's map each cluster to a class. We'll pick the most common class for each cluster (using the scipy.stats.mode() function)"
   ]
  },
  {
   "cell_type": "code",
   "execution_count": 6,
   "metadata": {},
   "outputs": [
    {
     "data": {
      "text/plain": [
       "{1: 0, 2: 1, 0: 2}"
      ]
     },
     "execution_count": 6,
     "metadata": {},
     "output_type": "execute_result"
    }
   ],
   "source": [
    "mapping = {}\n",
    "for class_id in np.unique(y):\n",
    "    mode, _ = stats.mode(y_pred[y==class_id]) #\"_\" ignores a value when unpacking\n",
    "    mapping[mode[0]] = class_id\n",
    "mapping"
   ]
  },
  {
   "cell_type": "code",
   "execution_count": 7,
   "metadata": {},
   "outputs": [],
   "source": [
    "y_pred = np.array([mapping[cluster_id] for cluster_id in y_pred])"
   ]
  },
  {
   "cell_type": "code",
   "execution_count": 8,
   "metadata": {},
   "outputs": [
    {
     "data": {
      "image/png": "[encoded data removed]",
      "text/plain": [
       "<Figure size 432x288 with 1 Axes>"
      ]
     },
     "metadata": {
      "needs_background": "light"
     },
     "output_type": "display_data"
    }
   ],
   "source": [
    "plt.plot(X[y_pred==0, 2], X[y_pred==0, 3], \"yo\", label=\"Cluster 1\")\n",
    "plt.plot(X[y_pred==1, 2], X[y_pred==1, 3], \"bs\", label=\"Cluster 2\")\n",
    "plt.plot(X[y_pred==2, 2], X[y_pred==2, 3], \"g^\", label=\"Cluster 3\")\n",
    "plt.xlabel(\"Petal Length\", fontsize=18)\n",
    "plt.ylabel(\"Petal Width\", fontsize=18)\n",
    "plt.legend(loc=\"upper left\", fontsize=14)\n",
    "plt.show()"
   ]
  },
  {
   "cell_type": "markdown",
   "metadata": {},
   "source": [
    "    - Check how many right prediction we got"
   ]
  },
  {
   "cell_type": "code",
   "execution_count": 9,
   "metadata": {},
   "outputs": [
    {
     "data": {
      "text/plain": [
       "145"
      ]
     },
     "execution_count": 9,
     "metadata": {},
     "output_type": "execute_result"
    }
   ],
   "source": [
    "np.sum(y_pred == y)"
   ]
  },
  {
   "cell_type": "code",
   "execution_count": 10,
   "metadata": {},
   "outputs": [
    {
     "data": {
      "text/plain": [
       "0.9666666666666667"
      ]
     },
     "execution_count": 10,
     "metadata": {},
     "output_type": "execute_result"
    }
   ],
   "source": [
    "np.sum(y_pred == y) / len(y)"
   ]
  },
  {
   "cell_type": "markdown",
   "metadata": {},
   "source": [
    "**Applications that use clustering inculde:**\n",
    "\n",
    "- **Customer segmentation**\n",
    "    - Clustering customers based on their purchases and their activity on a website. This is useful to understand who your customers are and what they need, so you can adapt your products and marketing campaigns to each segment. For instance, it can be useful in _recommender systems_ to suggest content that other users in the same cluster enjoyed.\n",
    "    \n",
    "    \n",
    "- **Data analysis**\n",
    "    - When analyzing a new dataset, it can be helpful to run a clustering algorithm, and then analyze each cluster separately\n",
    "    \n",
    "    \n",
    "- **As a dimensionality reduction technique**\n",
    "    - Once a dataset has been clustered, it's usually possible to measure each instance's _affinity_ with each cluster (_affinity_ is any measure of how will an instance fits into a cluster). Each instances' feature vector $x$ can be replaced with the vector of its clusters affinities. If there a re $k$ clusters, then this vector is $k$ dimnesional. This vector is typically much lower-dimensional than the original feature vector, but it can preserve enough information for further processing\n",
    "    \n",
    "    \n",
    "- **Anomaly detection (also called outlier detection)**\n",
    "    - Any instance that has a low affinity to all the clusters is likely to be an anomaly. For example, if you have clustered the users of your website based on their behavior, you can detect users with unusual behavior, such as an unusual request per second. Anomaly detection is paritcularly useful in detecting defects in manufacturing or fraud detection\n",
    "    \n",
    "    \n",
    "- **Semi-supervised learning**\n",
    "    - If there are only a few labels available, it's possible to perform clustering and propogate the labels to all the instances in the same cluster. This technique can greatly increase the number of labels available for subsequent supervised learning algorithm, thus improving performance\n",
    "    \n",
    "    \n",
    "- **Search engines**\n",
    "    - Some search engines allow you to search for images that are similar to a reference image. To build such a system, first apply a clustering algorithm to all the images in the database - similar images would end up in the same cluster. Then when a user provides a reference image, use the trained clustering model to find this image's cluster, and then you can return all the images from this cluster\n",
    "    \n",
    "    \n",
    "- **To segment an image**\n",
    "    - By clustering pixels according to their color, then replacing each pixel's color with the mean color of the cluster, it's possible to considerably reduce the number of different colors in the image. Image segmentation is used in many object detection and tracking systems, as it makes it easier to detect the contour of each object\n",
    "    "
   ]
  },
  {
   "cell_type": "markdown",
   "metadata": {},
   "source": [
    "A cluster depends on the context, and different algorithms will capture different kinds of clusters. For examples, algorithms that look for instances centered around a particular point, called _centroid_. Others look for continuous regions of densely packed instances: these clusters can take on any shape"
   ]
  },
  {
   "cell_type": "markdown",
   "metadata": {},
   "source": [
    "## K-Means"
   ]
  },
  {
   "cell_type": "markdown",
   "metadata": {},
   "source": [
    "In the following figure 9-2, its clear that there are 5 blobs of instances. The k-Means algorithm is a simple algorithm capable of clustering this kind of dataset very quickly and efficiently, often with just a few iterations. K-Means is sometimes referred to as Lloyd-Forgy, because it was published by two different people from different places"
   ]
  },
  {
   "cell_type": "code",
   "execution_count": 11,
   "metadata": {},
   "outputs": [],
   "source": [
    "blob_centers = np.array([\n",
    "    [ 0.2,  2.3],\n",
    "    [-1.5 ,  2.3],\n",
    "    [-2.8,  1.8],\n",
    "    [-2.8,  2.8],\n",
    "    [-2.8,  1.3]\n",
    "])\n",
    "blob_std = np.array([0.4, 0.3, 0.1, 0.1, 0.1])"
   ]
  },
  {
   "cell_type": "code",
   "execution_count": 12,
   "metadata": {},
   "outputs": [],
   "source": [
    "X, y = make_blobs(n_samples=2000, centers=blob_centers, cluster_std=blob_std,\n",
    "                 random_state=7)"
   ]
  },
  {
   "cell_type": "code",
   "execution_count": 13,
   "metadata": {},
   "outputs": [
    {
     "name": "stdout",
     "output_type": "stream",
     "text": [
      "Saving figure, Clustering - KMeans, Unlabeled dataset of 5 blobs\n"
     ]
    },
    {
     "data": {
      "image/png": "[encoded data removed]",
      "text/plain": [
       "<Figure size 576x288 with 1 Axes>"
      ]
     },
     "metadata": {
      "needs_background": "light"
     },
     "output_type": "display_data"
    },
    {
     "name": "stdout",
     "output_type": "stream",
     "text": [
      "Figure 9-2\n"
     ]
    }
   ],
   "source": [
    "def plot_clusters(X, y=None):\n",
    "    plt.scatter(X[:, 0], X[:, 1], c=y, s=1)\n",
    "    plt.xlabel(\"$x_1$\", fontsize=14)\n",
    "    plt.ylabel(\"$x_2$\", rotation=0, fontsize=14)\n",
    "\n",
    "plt.figure(figsize=(8,4))\n",
    "plot_clusters(X)\n",
    "save_fig(\"Clustering - KMeans, Unlabeled dataset of 5 blobs\")\n",
    "plt.show()\n",
    "print(\"Figure 9-2\")"
   ]
  },
  {
   "cell_type": "markdown",
   "metadata": {},
   "source": [
    "    - Fit and predict by using the KMeans on this dataset. It will try to find each blob's center and assign each instance to the closest blob"
   ]
  },
  {
   "cell_type": "markdown",
   "metadata": {},
   "source": [
    "**Note** specifying the number of clusters is generally not that easy."
   ]
  },
  {
   "cell_type": "code",
   "execution_count": 14,
   "metadata": {},
   "outputs": [],
   "source": [
    "k = 5\n",
    "kmeans = KMeans(n_clusters=k, random_state=42)\n",
    "y_pred = kmeans.fit_predict(X)"
   ]
  },
  {
   "cell_type": "markdown",
   "metadata": {},
   "source": [
    "    - Each instances has been assigned to one of the 5 clusters"
   ]
  },
  {
   "cell_type": "code",
   "execution_count": 15,
   "metadata": {},
   "outputs": [
    {
     "data": {
      "text/plain": [
       "array([4, 0, 1, ..., 2, 1, 0])"
      ]
     },
     "execution_count": 15,
     "metadata": {},
     "output_type": "execute_result"
    }
   ],
   "source": [
    "y_pred"
   ]
  },
  {
   "cell_type": "markdown",
   "metadata": {},
   "source": [
    "**Note** in Kmeans, the ***label*** of an instance is the **_index_ of the cluster it gets assigned to**"
   ]
  },
  {
   "cell_type": "code",
   "execution_count": 16,
   "metadata": {},
   "outputs": [
    {
     "data": {
      "text/plain": [
       "True"
      ]
     },
     "execution_count": 16,
     "metadata": {},
     "output_type": "execute_result"
    }
   ],
   "source": [
    "y_pred is kmeans.labels_"
   ]
  },
  {
   "cell_type": "markdown",
   "metadata": {},
   "source": [
    "    - Estimation of the 5 centroids"
   ]
  },
  {
   "cell_type": "code",
   "execution_count": 17,
   "metadata": {},
   "outputs": [
    {
     "data": {
      "text/plain": [
       "array([[-2.80389616,  1.80117999],\n",
       "       [ 0.20876306,  2.25551336],\n",
       "       [-2.79290307,  2.79641063],\n",
       "       [-1.46679593,  2.28585348],\n",
       "       [-2.80037642,  1.30082566]])"
      ]
     },
     "execution_count": 17,
     "metadata": {},
     "output_type": "execute_result"
    }
   ],
   "source": [
    "kmeans.cluster_centers_"
   ]
  },
  {
   "cell_type": "markdown",
   "metadata": {},
   "source": [
    "    - Predict labels of new instances"
   ]
  },
  {
   "cell_type": "code",
   "execution_count": 18,
   "metadata": {},
   "outputs": [
    {
     "data": {
      "text/plain": [
       "array([1, 1, 2, 2])"
      ]
     },
     "execution_count": 18,
     "metadata": {},
     "output_type": "execute_result"
    }
   ],
   "source": [
    "X_new = np.array([\n",
    "    [0, 2],\n",
    "    [3, 2],\n",
    "    [-3, 3],\n",
    "    [-3, 2.5]\n",
    "])\n",
    "kmeans.predict(X_new)"
   ]
  },
  {
   "cell_type": "markdown",
   "metadata": {},
   "source": [
    "    - Let's plot the cluster's decision boundries (gives a Voronoi diagram)"
   ]
  },
  {
   "cell_type": "code",
   "execution_count": 19,
   "metadata": {},
   "outputs": [],
   "source": [
    "def plot_data(X):\n",
    "    plt.plot(X[:, 0], X[:, 1], 'k.', markersize=2)\n",
    "\n",
    "def plot_centroids(centroids, weights=None, circle_color=\"w\", cross_color=\"k\"):\n",
    "    if weights is not None:\n",
    "        centroids = centroids[weights > weights.max() / 10]\n",
    "    plt.scatter(centroids[:, 0], centroids[:, 1], marker=\"o\", s=35, linewidths=8, \n",
    "                color=circle_color, zorder=10, alpha=0.9)\n",
    "    plt.scatter(centroids[:, 0], centroids[:, 1], marker=\"x\", s=2, linewidths=12,\n",
    "               color=cross_color, zorder=11, alpha=1)\n",
    "\n",
    "def plot_decision_boundaries(clusterer, X, resolution=1000, show_centroids=True,\n",
    "                            show_xlabels=True, show_ylabels=True):\n",
    "    mins = X.min(axis=0) - 0.1\n",
    "    maxs = X.max(axis=0) + 0.1\n",
    "    xx, yy = np.meshgrid(np.linspace(mins[0], maxs[0], resolution),\n",
    "                         np.linspace(mins[1], maxs[1], resolution))\n",
    "    Z = clusterer.predict(np.c_[xx.ravel(), yy.ravel()])\n",
    "    Z = Z.reshape(xx.shape)\n",
    "    \n",
    "    plt.contourf(Z, extent=(mins[0], maxs[0], mins[1], maxs[1]), cmap=\"Pastel2\")\n",
    "    plt.contour(Z, extent=(mins[0], maxs[0], mins[1], maxs[1]), linewidths=1,\n",
    "            color=\"k\")\n",
    "    \n",
    "    plot_data(X)\n",
    "    if show_centroids:\n",
    "        plot_centroids(clusterer.cluster_centers_)\n",
    "        \n",
    "    if show_xlabels:\n",
    "        plt.xlabel(\"$x_1$\", fontsize=14)\n",
    "    else:\n",
    "        plt.tick_params(labelbottom=False)\n",
    "    if show_ylabels:\n",
    "        plt.ylabel(\"$x_2$\", rotation=0, fontsize=14)\n",
    "    else:\n",
    "        plt.tick_params(labelleft=False)"
   ]
  },
  {
   "cell_type": "code",
   "execution_count": 20,
   "metadata": {},
   "outputs": [
    {
     "name": "stderr",
     "output_type": "stream",
     "text": [
      "<ipython-input-19-50808b416ee9>:22: UserWarning: The following kwargs were not used by contour: 'color'\n",
      "  plt.contour(Z, extent=(mins[0], maxs[0], mins[1], maxs[1]), linewidths=1,\n"
     ]
    },
    {
     "name": "stdout",
     "output_type": "stream",
     "text": [
      "Saving figure, Clustering - KMeans, decision boundaries\n"
     ]
    },
    {
     "data": {
      "image/png": "[encoded data removed]",
      "text/plain": [
       "<Figure size 576x288 with 1 Axes>"
      ]
     },
     "metadata": {
      "needs_background": "light"
     },
     "output_type": "display_data"
    },
    {
     "name": "stdout",
     "output_type": "stream",
     "text": [
      "Figure 9-3\n"
     ]
    }
   ],
   "source": [
    "plt.figure(figsize=(8, 4))\n",
    "plot_decision_boundaries(kmeans, X)\n",
    "save_fig(\"Clustering - KMeans, decision boundaries\")\n",
    "plt.show()\n",
    "print(\"Figure 9-3\")"
   ]
  },
  {
   "cell_type": "markdown",
   "metadata": {},
   "source": [
    "The vast majority of the instances were clearly assigned to the appropriate cluster, but a few instance were probably mislabeled (especially near the boundary between the top-left cluster and the central cluster). \n",
    "\n",
    "When the blobs vary in diameters, K-Means doesn't perform that well because all it care about when assigning instances to a cluster is the distance to the centroid."
   ]
  },
  {
   "cell_type": "markdown",
   "metadata": {},
   "source": [
    "Instead of assigning each instance to a single cluster, called ***hard clustering***, it cab be useful to give each instance a score per cluster, called ***soft clustering***.\n",
    "\n",
    "The score can be the distance between the instance and the centroid, or the similarity score (or affinity), such as the Gaussian Radial Bases Function (RBF). "
   ]
  },
  {
   "cell_type": "markdown",
   "metadata": {},
   "source": [
    "In KMeans, the ***transform()*** method measures the distance from each instance to every centroid"
   ]
  },
  {
   "cell_type": "code",
   "execution_count": 21,
   "metadata": {},
   "outputs": [
    {
     "data": {
      "text/plain": [
       "array([[2.81093633, 0.32995317, 2.9042344 , 1.49439034, 2.88633901],\n",
       "       [5.80730058, 2.80290755, 5.84739223, 4.4759332 , 5.84236351],\n",
       "       [1.21475352, 3.29399768, 0.29040966, 1.69136631, 1.71086031],\n",
       "       [0.72581411, 3.21806371, 0.36159148, 1.54808703, 1.21567622]])"
      ]
     },
     "execution_count": 21,
     "metadata": {},
     "output_type": "execute_result"
    }
   ],
   "source": [
    "kmeans.transform(X_new)"
   ]
  },
  {
   "cell_type": "markdown",
   "metadata": {},
   "source": [
    "We can verify this by calculating the Euclidian distance between each instance and each centroid"
   ]
  },
  {
   "cell_type": "code",
   "execution_count": 22,
   "metadata": {},
   "outputs": [
    {
     "data": {
      "text/plain": [
       "array([[2.81093633, 0.32995317, 2.9042344 , 1.49439034, 2.88633901],\n",
       "       [5.80730058, 2.80290755, 5.84739223, 4.4759332 , 5.84236351],\n",
       "       [1.21475352, 3.29399768, 0.29040966, 1.69136631, 1.71086031],\n",
       "       [0.72581411, 3.21806371, 0.36159148, 1.54808703, 1.21567622]])"
      ]
     },
     "execution_count": 22,
     "metadata": {},
     "output_type": "execute_result"
    }
   ],
   "source": [
    "np.linalg.norm(np.tile(X_new, (1, k)).reshape(-1, k ,2) - kmeans.cluster_centers_, axis=2)"
   ]
  },
  {
   "cell_type": "markdown",
   "metadata": {},
   "source": [
    "Recall that X_new has 4 instances and 5 clusters. We can see that the first instances distance from the first cluster is 2.81, on the second cluster it's 0.32 and so on.\n",
    "\n",
    "If you have a high-dimensional dataset and you transform it this way, you end up with $k$-dimensional dataset: this transformation can be a very **efficient nonlinear dimnesionality reduction technique.**"
   ]
  },
  {
   "cell_type": "markdown",
   "metadata": {},
   "source": [
    "### The K-Means algorithm"
   ]
  },
  {
   "cell_type": "markdown",
   "metadata": {},
   "source": [
    "How does the algorithm work?\n",
    "- First initialize $k$ centroids randomly: $k$ distinct instances are chosen randomly from the dataset and the centroids are placed at their locations.\n",
    "- Repeat until convergance (that is, until the centroids stop moving):\n",
    "    - Assign each instance to the closest centroid\n",
    "    - Update the centroids to be the mean of the instances that are assigned to them"
   ]
  },
  {
   "cell_type": "markdown",
   "metadata": {},
   "source": [
    "> The computational complexity of the algorithm is generally linear with regard to the number of instances $m$, the number of clusters $k$, and the number of dimensions $n$. **However**, this is only true when the data has a clustering structure. If it doesn't, then in the worst-case scenario the complexity can increase exponentially with the number of instances. In practice this rarely happens, and K-Means is generally one of the fastest clustering algorithms"
   ]
  },
  {
   "cell_type": "markdown",
   "metadata": {},
   "source": [
    "The Kmeans class applies an optimized algorithm by default. To get the original K-Means algorithm (for educational purposes only), set ***init=\"random\"***, ***n_init=1*** and ***algorithm=\"full\"***"
   ]
  },
  {
   "cell_type": "markdown",
   "metadata": {},
   "source": [
    "In the following figure 9-4, the centroids are initialized randomly (top left), then the instances are labeled (top right), and so on. After 3 iterations, the algorithm has reached a clustering that seems fairly resonable"
   ]
  },
  {
   "cell_type": "code",
   "execution_count": 23,
   "metadata": {},
   "outputs": [
    {
     "data": {
      "text/plain": [
       "KMeans(algorithm='full', init='random', max_iter=3, n_clusters=5, n_init=1,\n",
       "       random_state=0)"
      ]
     },
     "execution_count": 23,
     "metadata": {},
     "output_type": "execute_result"
    }
   ],
   "source": [
    "kmeans_iter1 = KMeans(n_clusters=5, init=\"random\", n_init=1, algorithm=\"full\",\n",
    "                     max_iter=1, random_state=0)\n",
    "kmeans_iter2 = KMeans(n_clusters=5, init=\"random\", n_init=1, algorithm=\"full\",\n",
    "                     max_iter=2, random_state=0)\n",
    "kmeans_iter3 = KMeans(n_clusters=5, init=\"random\", n_init=1, algorithm=\"full\",\n",
    "                     max_iter=3, random_state=0)\n",
    "kmeans_iter1.fit(X)\n",
    "kmeans_iter2.fit(X)\n",
    "kmeans_iter3.fit(X)"
   ]
  },
  {
   "cell_type": "code",
   "execution_count": 24,
   "metadata": {},
   "outputs": [
    {
     "name": "stderr",
     "output_type": "stream",
     "text": [
      "<ipython-input-19-50808b416ee9>:22: UserWarning: The following kwargs were not used by contour: 'color'\n",
      "  plt.contour(Z, extent=(mins[0], maxs[0], mins[1], maxs[1]), linewidths=1,\n"
     ]
    },
    {
     "ename": "KeyboardInterrupt",
     "evalue": "",
     "output_type": "error",
     "traceback": [
      "\u001b[1;31m----------------------------------------------------------\u001b[0m",
      "\u001b[1;31mKeyboardInterrupt\u001b[0m        Traceback (most recent call last)",
      "\u001b[1;32m<ipython-input-24-6d3706150a7a>\u001b[0m in \u001b[0;36m<module>\u001b[1;34m\u001b[0m\n\u001b[0;32m     13\u001b[0m \u001b[1;33m\u001b[0m\u001b[0m\n\u001b[0;32m     14\u001b[0m \u001b[0mplt\u001b[0m\u001b[1;33m.\u001b[0m\u001b[0msubplot\u001b[0m\u001b[1;33m(\u001b[0m\u001b[1;36m323\u001b[0m\u001b[1;33m)\u001b[0m\u001b[1;33m\u001b[0m\u001b[1;33m\u001b[0m\u001b[0m\n\u001b[1;32m---> 15\u001b[1;33m \u001b[0mplot_decision_boundaries\u001b[0m\u001b[1;33m(\u001b[0m\u001b[0mkmeans_iter1\u001b[0m\u001b[1;33m,\u001b[0m \u001b[0mX\u001b[0m\u001b[1;33m,\u001b[0m \u001b[0mshow_centroids\u001b[0m\u001b[1;33m=\u001b[0m\u001b[1;32mFalse\u001b[0m\u001b[1;33m,\u001b[0m \u001b[0mshow_xlabels\u001b[0m\u001b[1;33m=\u001b[0m\u001b[1;32mFalse\u001b[0m\u001b[1;33m)\u001b[0m\u001b[1;33m\u001b[0m\u001b[1;33m\u001b[0m\u001b[0m\n\u001b[0m\u001b[0;32m     16\u001b[0m \u001b[0mplot_centroids\u001b[0m\u001b[1;33m(\u001b[0m\u001b[0mkmeans_iter2\u001b[0m\u001b[1;33m.\u001b[0m\u001b[0mcluster_centers_\u001b[0m\u001b[1;33m)\u001b[0m\u001b[1;33m\u001b[0m\u001b[1;33m\u001b[0m\u001b[0m\n\u001b[0;32m     17\u001b[0m \u001b[1;33m\u001b[0m\u001b[0m\n",
      "\u001b[1;32m<ipython-input-19-50808b416ee9>\u001b[0m in \u001b[0;36mplot_decision_boundaries\u001b[1;34m(clusterer, X, resolution, show_centroids, show_xlabels, show_ylabels)\u001b[0m\n\u001b[0;32m     19\u001b[0m     \u001b[0mZ\u001b[0m \u001b[1;33m=\u001b[0m \u001b[0mZ\u001b[0m\u001b[1;33m.\u001b[0m\u001b[0mreshape\u001b[0m\u001b[1;33m(\u001b[0m\u001b[0mxx\u001b[0m\u001b[1;33m.\u001b[0m\u001b[0mshape\u001b[0m\u001b[1;33m)\u001b[0m\u001b[1;33m\u001b[0m\u001b[1;33m\u001b[0m\u001b[0m\n\u001b[0;32m     20\u001b[0m \u001b[1;33m\u001b[0m\u001b[0m\n\u001b[1;32m---> 21\u001b[1;33m     \u001b[0mplt\u001b[0m\u001b[1;33m.\u001b[0m\u001b[0mcontourf\u001b[0m\u001b[1;33m(\u001b[0m\u001b[0mZ\u001b[0m\u001b[1;33m,\u001b[0m \u001b[0mextent\u001b[0m\u001b[1;33m=\u001b[0m\u001b[1;33m(\u001b[0m\u001b[0mmins\u001b[0m\u001b[1;33m[\u001b[0m\u001b[1;36m0\u001b[0m\u001b[1;33m]\u001b[0m\u001b[1;33m,\u001b[0m \u001b[0mmaxs\u001b[0m\u001b[1;33m[\u001b[0m\u001b[1;36m0\u001b[0m\u001b[1;33m]\u001b[0m\u001b[1;33m,\u001b[0m \u001b[0mmins\u001b[0m\u001b[1;33m[\u001b[0m\u001b[1;36m1\u001b[0m\u001b[1;33m]\u001b[0m\u001b[1;33m,\u001b[0m \u001b[0mmaxs\u001b[0m\u001b[1;33m[\u001b[0m\u001b[1;36m1\u001b[0m\u001b[1;33m]\u001b[0m\u001b[1;33m)\u001b[0m\u001b[1;33m,\u001b[0m \u001b[0mcmap\u001b[0m\u001b[1;33m=\u001b[0m\u001b[1;34m\"Pastel2\"\u001b[0m\u001b[1;33m)\u001b[0m\u001b[1;33m\u001b[0m\u001b[1;33m\u001b[0m\u001b[0m\n\u001b[0m\u001b[0;32m     22\u001b[0m     plt.contour(Z, extent=(mins[0], maxs[0], mins[1], maxs[1]), linewidths=1,\n\u001b[0;32m     23\u001b[0m             color=\"k\")\n",
      "\u001b[1;32m~\\anaconda3\\lib\\site-packages\\matplotlib\\pyplot.py\u001b[0m in \u001b[0;36mcontourf\u001b[1;34m(data, *args, **kwargs)\u001b[0m\n\u001b[0;32m   2575\u001b[0m \u001b[1;33m@\u001b[0m\u001b[0m_copy_docstring_and_deprecators\u001b[0m\u001b[1;33m(\u001b[0m\u001b[0mAxes\u001b[0m\u001b[1;33m.\u001b[0m\u001b[0mcontourf\u001b[0m\u001b[1;33m)\u001b[0m\u001b[1;33m\u001b[0m\u001b[1;33m\u001b[0m\u001b[0m\n\u001b[0;32m   2576\u001b[0m \u001b[1;32mdef\u001b[0m \u001b[0mcontourf\u001b[0m\u001b[1;33m(\u001b[0m\u001b[1;33m*\u001b[0m\u001b[0margs\u001b[0m\u001b[1;33m,\u001b[0m \u001b[0mdata\u001b[0m\u001b[1;33m=\u001b[0m\u001b[1;32mNone\u001b[0m\u001b[1;33m,\u001b[0m \u001b[1;33m**\u001b[0m\u001b[0mkwargs\u001b[0m\u001b[1;33m)\u001b[0m\u001b[1;33m:\u001b[0m\u001b[1;33m\u001b[0m\u001b[1;33m\u001b[0m\u001b[0m\n\u001b[1;32m-> 2577\u001b[1;33m     __ret = gca().contourf(\n\u001b[0m\u001b[0;32m   2578\u001b[0m         \u001b[1;33m*\u001b[0m\u001b[0margs\u001b[0m\u001b[1;33m,\u001b[0m \u001b[1;33m**\u001b[0m\u001b[1;33m(\u001b[0m\u001b[1;33m{\u001b[0m\u001b[1;34m\"data\"\u001b[0m\u001b[1;33m:\u001b[0m \u001b[0mdata\u001b[0m\u001b[1;33m}\u001b[0m \u001b[1;32mif\u001b[0m \u001b[0mdata\u001b[0m \u001b[1;32mis\u001b[0m \u001b[1;32mnot\u001b[0m \u001b[1;32mNone\u001b[0m \u001b[1;32melse\u001b[0m \u001b[1;33m{\u001b[0m\u001b[1;33m}\u001b[0m\u001b[1;33m)\u001b[0m\u001b[1;33m,\u001b[0m\u001b[1;33m\u001b[0m\u001b[1;33m\u001b[0m\u001b[0m\n\u001b[0;32m   2579\u001b[0m         **kwargs)\n",
      "\u001b[1;32m~\\anaconda3\\lib\\site-packages\\matplotlib\\__init__.py\u001b[0m in \u001b[0;36minner\u001b[1;34m(ax, data, *args, **kwargs)\u001b[0m\n\u001b[0;32m   1436\u001b[0m     \u001b[1;32mdef\u001b[0m \u001b[0minner\u001b[0m\u001b[1;33m(\u001b[0m\u001b[0max\u001b[0m\u001b[1;33m,\u001b[0m \u001b[1;33m*\u001b[0m\u001b[0margs\u001b[0m\u001b[1;33m,\u001b[0m \u001b[0mdata\u001b[0m\u001b[1;33m=\u001b[0m\u001b[1;32mNone\u001b[0m\u001b[1;33m,\u001b[0m \u001b[1;33m**\u001b[0m\u001b[0mkwargs\u001b[0m\u001b[1;33m)\u001b[0m\u001b[1;33m:\u001b[0m\u001b[1;33m\u001b[0m\u001b[1;33m\u001b[0m\u001b[0m\n\u001b[0;32m   1437\u001b[0m         \u001b[1;32mif\u001b[0m \u001b[0mdata\u001b[0m \u001b[1;32mis\u001b[0m \u001b[1;32mNone\u001b[0m\u001b[1;33m:\u001b[0m\u001b[1;33m\u001b[0m\u001b[1;33m\u001b[0m\u001b[0m\n\u001b[1;32m-> 1438\u001b[1;33m             \u001b[1;32mreturn\u001b[0m \u001b[0mfunc\u001b[0m\u001b[1;33m(\u001b[0m\u001b[0max\u001b[0m\u001b[1;33m,\u001b[0m \u001b[1;33m*\u001b[0m\u001b[0mmap\u001b[0m\u001b[1;33m(\u001b[0m\u001b[0msanitize_sequence\u001b[0m\u001b[1;33m,\u001b[0m \u001b[0margs\u001b[0m\u001b[1;33m)\u001b[0m\u001b[1;33m,\u001b[0m \u001b[1;33m**\u001b[0m\u001b[0mkwargs\u001b[0m\u001b[1;33m)\u001b[0m\u001b[1;33m\u001b[0m\u001b[1;33m\u001b[0m\u001b[0m\n\u001b[0m\u001b[0;32m   1439\u001b[0m \u001b[1;33m\u001b[0m\u001b[0m\n\u001b[0;32m   1440\u001b[0m         \u001b[0mbound\u001b[0m \u001b[1;33m=\u001b[0m \u001b[0mnew_sig\u001b[0m\u001b[1;33m.\u001b[0m\u001b[0mbind\u001b[0m\u001b[1;33m(\u001b[0m\u001b[0max\u001b[0m\u001b[1;33m,\u001b[0m \u001b[1;33m*\u001b[0m\u001b[0margs\u001b[0m\u001b[1;33m,\u001b[0m \u001b[1;33m**\u001b[0m\u001b[0mkwargs\u001b[0m\u001b[1;33m)\u001b[0m\u001b[1;33m\u001b[0m\u001b[1;33m\u001b[0m\u001b[0m\n",
      "\u001b[1;32m~\\anaconda3\\lib\\site-packages\\matplotlib\\axes\\_axes.py\u001b[0m in \u001b[0;36mcontourf\u001b[1;34m(self, *args, **kwargs)\u001b[0m\n\u001b[0;32m   6338\u001b[0m     \u001b[1;32mdef\u001b[0m \u001b[0mcontourf\u001b[0m\u001b[1;33m(\u001b[0m\u001b[0mself\u001b[0m\u001b[1;33m,\u001b[0m \u001b[1;33m*\u001b[0m\u001b[0margs\u001b[0m\u001b[1;33m,\u001b[0m \u001b[1;33m**\u001b[0m\u001b[0mkwargs\u001b[0m\u001b[1;33m)\u001b[0m\u001b[1;33m:\u001b[0m\u001b[1;33m\u001b[0m\u001b[1;33m\u001b[0m\u001b[0m\n\u001b[0;32m   6339\u001b[0m         \u001b[0mkwargs\u001b[0m\u001b[1;33m[\u001b[0m\u001b[1;34m'filled'\u001b[0m\u001b[1;33m]\u001b[0m \u001b[1;33m=\u001b[0m \u001b[1;32mTrue\u001b[0m\u001b[1;33m\u001b[0m\u001b[1;33m\u001b[0m\u001b[0m\n\u001b[1;32m-> 6340\u001b[1;33m         \u001b[0mcontours\u001b[0m \u001b[1;33m=\u001b[0m \u001b[0mmcontour\u001b[0m\u001b[1;33m.\u001b[0m\u001b[0mQuadContourSet\u001b[0m\u001b[1;33m(\u001b[0m\u001b[0mself\u001b[0m\u001b[1;33m,\u001b[0m \u001b[1;33m*\u001b[0m\u001b[0margs\u001b[0m\u001b[1;33m,\u001b[0m \u001b[1;33m**\u001b[0m\u001b[0mkwargs\u001b[0m\u001b[1;33m)\u001b[0m\u001b[1;33m\u001b[0m\u001b[1;33m\u001b[0m\u001b[0m\n\u001b[0m\u001b[0;32m   6341\u001b[0m         \u001b[0mself\u001b[0m\u001b[1;33m.\u001b[0m\u001b[0m_request_autoscale_view\u001b[0m\u001b[1;33m(\u001b[0m\u001b[1;33m)\u001b[0m\u001b[1;33m\u001b[0m\u001b[1;33m\u001b[0m\u001b[0m\n\u001b[0;32m   6342\u001b[0m         \u001b[1;32mreturn\u001b[0m \u001b[0mcontours\u001b[0m\u001b[1;33m\u001b[0m\u001b[1;33m\u001b[0m\u001b[0m\n",
      "\u001b[1;32m~\\anaconda3\\lib\\site-packages\\matplotlib\\contour.py\u001b[0m in \u001b[0;36m__init__\u001b[1;34m(self, ax, levels, filled, linewidths, linestyles, hatches, alpha, origin, extent, cmap, colors, norm, vmin, vmax, extend, antialiased, nchunk, locator, transform, *args, **kwargs)\u001b[0m\n\u001b[0;32m    865\u001b[0m         \u001b[0mself\u001b[0m\u001b[1;33m.\u001b[0m\u001b[0m_process_colors\u001b[0m\u001b[1;33m(\u001b[0m\u001b[1;33m)\u001b[0m\u001b[1;33m\u001b[0m\u001b[1;33m\u001b[0m\u001b[0m\n\u001b[0;32m    866\u001b[0m \u001b[1;33m\u001b[0m\u001b[0m\n\u001b[1;32m--> 867\u001b[1;33m         \u001b[0mself\u001b[0m\u001b[1;33m.\u001b[0m\u001b[0mallsegs\u001b[0m\u001b[1;33m,\u001b[0m \u001b[0mself\u001b[0m\u001b[1;33m.\u001b[0m\u001b[0mallkinds\u001b[0m \u001b[1;33m=\u001b[0m \u001b[0mself\u001b[0m\u001b[1;33m.\u001b[0m\u001b[0m_get_allsegs_and_allkinds\u001b[0m\u001b[1;33m(\u001b[0m\u001b[1;33m)\u001b[0m\u001b[1;33m\u001b[0m\u001b[1;33m\u001b[0m\u001b[0m\n\u001b[0m\u001b[0;32m    868\u001b[0m \u001b[1;33m\u001b[0m\u001b[0m\n\u001b[0;32m    869\u001b[0m         \u001b[1;32mif\u001b[0m \u001b[0mself\u001b[0m\u001b[1;33m.\u001b[0m\u001b[0mfilled\u001b[0m\u001b[1;33m:\u001b[0m\u001b[1;33m\u001b[0m\u001b[1;33m\u001b[0m\u001b[0m\n",
      "\u001b[1;32m~\\anaconda3\\lib\\site-packages\\matplotlib\\contour.py\u001b[0m in \u001b[0;36m_get_allsegs_and_allkinds\u001b[1;34m(self)\u001b[0m\n\u001b[0;32m   1463\u001b[0m             \u001b[0mallkinds\u001b[0m \u001b[1;33m=\u001b[0m \u001b[1;33m[\u001b[0m\u001b[1;33m]\u001b[0m\u001b[1;33m\u001b[0m\u001b[1;33m\u001b[0m\u001b[0m\n\u001b[0;32m   1464\u001b[0m             \u001b[1;32mfor\u001b[0m \u001b[0mlevel\u001b[0m\u001b[1;33m,\u001b[0m \u001b[0mlevel_upper\u001b[0m \u001b[1;32min\u001b[0m \u001b[0mzip\u001b[0m\u001b[1;33m(\u001b[0m\u001b[0mlowers\u001b[0m\u001b[1;33m,\u001b[0m \u001b[0muppers\u001b[0m\u001b[1;33m)\u001b[0m\u001b[1;33m:\u001b[0m\u001b[1;33m\u001b[0m\u001b[1;33m\u001b[0m\u001b[0m\n\u001b[1;32m-> 1465\u001b[1;33m                 \u001b[0mvertices\u001b[0m\u001b[1;33m,\u001b[0m \u001b[0mkinds\u001b[0m \u001b[1;33m=\u001b[0m\u001b[0;31m \u001b[0m\u001b[0;31m\\\u001b[0m\u001b[1;33m\u001b[0m\u001b[1;33m\u001b[0m\u001b[0m\n\u001b[0m\u001b[0;32m   1466\u001b[0m                     self._contour_generator.create_filled_contour(\n\u001b[0;32m   1467\u001b[0m                         level, level_upper)\n",
      "\u001b[1;31mKeyboardInterrupt\u001b[0m: "
     ]
    },
    {
     "data": {
      "image/png": "[encoded data removed]",
      "text/plain": [
       "<Figure size 720x576 with 3 Axes>"
      ]
     },
     "metadata": {
      "needs_background": "light"
     },
     "output_type": "display_data"
    }
   ],
   "source": [
    "plt.figure(figsize=(10, 8))\n",
    "\n",
    "plt.subplot(321)\n",
    "plot_data(X)\n",
    "plot_centroids(kmeans_iter1.cluster_centers_, circle_color='r', cross_color='w')\n",
    "plt.ylabel(\"$x_2$\", rotation=0, fontsize=14)\n",
    "plt.tick_params(labelbottom=False)\n",
    "plt.title(\"Update the centroids (initially randomly)\", fontsize=14)\n",
    "\n",
    "plt.subplot(322)\n",
    "plot_decision_boundaries(kmeans_iter1, X, show_xlabels=False, show_ylabels=False)\n",
    "plt.title(\"Label the instances\", fontsize=14)\n",
    "\n",
    "plt.subplot(323)\n",
    "plot_decision_boundaries(kmeans_iter1, X, show_centroids=False, show_xlabels=False)\n",
    "plot_centroids(kmeans_iter2.cluster_centers_)\n",
    "\n",
    "plt.subplot(324)\n",
    "plot_decision_boundaries(kmeans_iter2, X, show_xlabels=False, show_ylabels=False)\n",
    "\n",
    "plt.subplot(325)\n",
    "plot_decision_boundaries(kmeans_iter2, X, show_centroids=False)\n",
    "plot_centroids(kmeans_iter3.cluster_centers_)\n",
    "\n",
    "plt.subplot(326)\n",
    "plot_decision_boundaries(kmeans_iter3, X, show_ylabels=False)\n",
    "\n",
    "save_fig(\"Clustering - KMeans, the algorithm\")\n",
    "plt.show()\n",
    "print(\"Figure 9-4\")"
   ]
  },
  {
   "cell_type": "markdown",
   "metadata": {},
   "source": [
    "###### K-Means variability"
   ]
  },
  {
   "cell_type": "markdown",
   "metadata": {},
   "source": [
    "In the original K-Means algorithm, the centroids are initialized randomly, and the algorithm runs a single iteration to gradually improve the centroids.\n",
    "\n",
    "However, one major problem with this approach is that if you rub K-Means multiple times (or with different random seed), it can converge to very different solutions:"
   ]
  },
  {
   "cell_type": "code",
   "execution_count": null,
   "metadata": {},
   "outputs": [],
   "source": [
    "def plot_clusterer_comparison(clusterer1, clusterer2, X, title1=None, title2=None):\n",
    "    clusterer1.fit(X)\n",
    "    clusterer2.fit(X)\n",
    "    \n",
    "    plt.figure(figsize=(10, 3.2))\n",
    "    \n",
    "    plt.subplot(121)\n",
    "    plot_decision_boundaries(clusterer1, X)\n",
    "    if title1:\n",
    "        plt.title(title1, fontsize=14)\n",
    "        \n",
    "    plt.subplot(122)\n",
    "    plot_decision_boundaries(clusterer2, X)\n",
    "    if title2:\n",
    "        plt.title(title2, fontsize=14)"
   ]
  },
  {
   "cell_type": "code",
   "execution_count": null,
   "metadata": {},
   "outputs": [],
   "source": [
    "kmneans_rnd_init1 = KMeans(n_clusters=5, init=\"random\", n_init=1,\n",
    "                           algorithm=\"full\", random_state=2)\n",
    "kmneans_rnd_init2 = KMeans(n_clusters=5, init=\"random\", n_init=1,\n",
    "                           algorithm=\"full\", random_state=5)\n",
    "plot_clusterer_comparison(kmneans_rnd_init1, kmneans_rnd_init2, X, \n",
    "                          title1=\"Solution 1\", \n",
    "                          title2=\"Solution 2 (with different random int\")"
   ]
  },
  {
   "cell_type": "markdown",
   "metadata": {},
   "source": [
    "##### Inertia"
   ]
  },
  {
   "cell_type": "markdown",
   "metadata": {},
   "source": [
    "To select the best model, we'll need a way to evaluate a K-Means model's performance. Unfortunately, clustering is an unsupervised task, so we don't have the targets. But at least we can measure the distance between each instance and their corresponding centroid. This is the idea behind ***inertia*** metric:"
   ]
  },
  {
   "cell_type": "code",
   "execution_count": null,
   "metadata": {},
   "outputs": [],
   "source": [
    "kmeans.inertia_"
   ]
  },
  {
   "cell_type": "markdown",
   "metadata": {},
   "source": [
    "**Inertia is the sum of the squared distance between an instance and its closests centroid**. We can verify it in the following way:"
   ]
  },
  {
   "cell_type": "code",
   "execution_count": null,
   "metadata": {},
   "outputs": [],
   "source": [
    "X_dist = kmeans.transform(X)\n",
    "np.sum(X_dist[np.arange(len(X_dist)), kmeans.labels_]**2)"
   ]
  },
  {
   "cell_type": "markdown",
   "metadata": {},
   "source": [
    "The **score()** method **returns the negative inertia**. Why negative? it's because a predictor's **score()** method must always repect the \"\"greater is better\" rule"
   ]
  },
  {
   "cell_type": "code",
   "execution_count": null,
   "metadata": {},
   "outputs": [],
   "source": [
    "kmeans.score(X)"
   ]
  },
  {
   "cell_type": "markdown",
   "metadata": {},
   "source": [
    "##### Multiple initializations"
   ]
  },
  {
   "cell_type": "markdown",
   "metadata": {},
   "source": [
    "**One approach to solve the variability issue is to run the k-Means algorithm multiple times with different random initializations, and select the solution that minimizes the inertia.** For example, let's look at the inertia of the last two \"bad\" models in the previous model:"
   ]
  },
  {
   "cell_type": "code",
   "execution_count": null,
   "metadata": {},
   "outputs": [],
   "source": [
    "kmneans_rnd_init1.inertia_"
   ]
  },
  {
   "cell_type": "code",
   "execution_count": null,
   "metadata": {},
   "outputs": [],
   "source": [
    "kmneans_rnd_init2.inertia_"
   ]
  },
  {
   "cell_type": "markdown",
   "metadata": {},
   "source": [
    "_kmneans_rnd_init1_ and _kmneans_rnd_init2_ have higher inertia than the first \"good\" model _kmeans_, which means that they're probably worse"
   ]
  },
  {
   "cell_type": "markdown",
   "metadata": {},
   "source": [
    "Setting **n_init** hyperparameter will make Scikit Learn run the original algorithm **n_init** times, and selects the solution that reduces the inertia. By default, **n_init=10**"
   ]
  },
  {
   "cell_type": "code",
   "execution_count": null,
   "metadata": {},
   "outputs": [],
   "source": [
    "kmeans_rnd_10_init = KMeans(n_clusters=5, init= \"random\", n_init=10,\n",
    "                           algorithm=\"full\", random_state=2)\n",
    "kmeans_rnd_10_init.fit(X)"
   ]
  },
  {
   "cell_type": "markdown",
   "metadata": {},
   "source": [
    "In the following plot, we'll see that we ended up with the initial model, which is the optimal K-Means solution (at least in terms of inertia, and assuming $k=5$)"
   ]
  },
  {
   "cell_type": "code",
   "execution_count": null,
   "metadata": {
    "scrolled": false
   },
   "outputs": [],
   "source": [
    "plt.figure(figsize=(8, 4))\n",
    "plot_decision_boundaries(kmeans_rnd_10_init, X)"
   ]
  },
  {
   "cell_type": "markdown",
   "metadata": {},
   "source": [
    "Let's have a look at a few ways in which it's possible to mitigate this risk by improving the centroid initialization"
   ]
  },
  {
   "cell_type": "markdown",
   "metadata": {},
   "source": [
    "##### Centroid initialization methods, K-Means++"
   ]
  },
  {
   "cell_type": "markdown",
   "metadata": {},
   "source": [
    "Instead of initializing the centroids randomly, it's preferable to initialize thme using the following algorithm (proposed by David Arthur and Segei Vassilvitskii)\n",
    "- Take one centroid $c_l$ chosen uniformely at random from the dataset.\n",
    "- Take a new cetner $c_i$, choosing and instance $x_1$ with probability: $D(x_i)^2$ / $\\sum\\limits_{j=1}^{m}{D(\\mathbf{x}^{(j)})}^2$, where $D(x_i)$ is the distance between the instance $x_i$ and the closest centroid that was already chosen. This probability distribution ensures that instances that are father away from already chosen centorids are much more likely to be selected as centroids.\n",
    "- Repeat the previous steps until all $k$ centroids have been chosen."
   ]
  },
  {
   "cell_type": "markdown",
   "metadata": {},
   "source": [
    "The rest of the K-Means++ algorithm is just regular K-Means. With this initialzation, the K-Means algorithm is much less likely to converge to a suboptimal solution, so it's possible to reduce **n_init** considerably. Most of the time, this largely compenstates for the additional complexity of the initialization process"
   ]
  },
  {
   "cell_type": "markdown",
   "metadata": {},
   "source": [
    "To set the initialization to K-Means++, set **init=k-means++** (default)"
   ]
  },
  {
   "cell_type": "code",
   "execution_count": null,
   "metadata": {},
   "outputs": [],
   "source": [
    "KMeans()"
   ]
  },
  {
   "cell_type": "code",
   "execution_count": null,
   "metadata": {},
   "outputs": [],
   "source": [
    "good_init = np.array([[-3, 3], [-3, 2], [-3, 1], [-1, 2], [0, 2]])\n",
    "kmeans = KMeans(n_clusters=5, init=good_init, n_init=1, random_state=42)\n",
    "kmeans.fit(X)\n",
    "kmeans.inertia_"
   ]
  },
  {
   "cell_type": "markdown",
   "metadata": {},
   "source": [
    "##### Accelerated K-Means and mini-batch K-Means"
   ]
  },
  {
   "cell_type": "markdown",
   "metadata": {},
   "source": [
    "**Accelerated K-Means**\n",
    "- The K-Means algorithm can be significantly accelerated by avoiding unnecessary distance calculations: This is achieved by exploiting the triangle inequality (i.e, that a straight line is always the shortest distance between two points) and by keeping track of lower and upper bounds for distances between instances and centorids."
   ]
  },
  {
   "cell_type": "markdown",
   "metadata": {},
   "source": [
    "To use Elkan's variant of K-Means, set **algorithm=\"elkan\"**. Note, it doesn't support sparse data, so by default, Scikit Learn uses \"elkan\" for dense data and \"full\"(the regular K-Means algorithm) for sparse data."
   ]
  },
  {
   "cell_type": "code",
   "execution_count": null,
   "metadata": {},
   "outputs": [],
   "source": [
    "%timeit -n 50 KMeans(algorithm=\"elkan\", random_state=42).fit(X)"
   ]
  },
  {
   "cell_type": "code",
   "execution_count": null,
   "metadata": {},
   "outputs": [],
   "source": [
    "%timeit -n 50 KMeans(algorithm=\"full\", random_state=42).fit(X)"
   ]
  },
  {
   "cell_type": "code",
   "execution_count": null,
   "metadata": {},
   "outputs": [],
   "source": []
  },
  {
   "cell_type": "markdown",
   "metadata": {},
   "source": [
    "**Mini-batch K-Means**\n",
    "- The algorithm is capable of using mini-bathces, moving the centroids just slightly at each iteration. This speeds up the algorithm typically by a factor of 3 or 4 and makes it possible to cluster huge datasets that don't fit in memory."
   ]
  },
  {
   "cell_type": "code",
   "execution_count": null,
   "metadata": {},
   "outputs": [],
   "source": [
    "minibatch_kmeans = MiniBatchKMeans(n_clusters=5, random_state=42)\n",
    "minibatch_kmeans.fit(X)"
   ]
  },
  {
   "cell_type": "code",
   "execution_count": null,
   "metadata": {},
   "outputs": [],
   "source": [
    "minibatch_kmeans.inertia_"
   ]
  },
  {
   "cell_type": "markdown",
   "metadata": {},
   "source": [
    "If the data doesn't fit in memory, the simplest option is to use the **memmap** class (like in Incremental PCA)"
   ]
  },
  {
   "cell_type": "code",
   "execution_count": null,
   "metadata": {},
   "outputs": [],
   "source": [
    "mnist = fetch_openml(\"mnist_784\", version=1, as_frame=False)\n",
    "mnist.target = mnist.target.astype(np.int64)"
   ]
  },
  {
   "cell_type": "code",
   "execution_count": null,
   "metadata": {},
   "outputs": [],
   "source": [
    "X_train, X_test, y_train, y_test = train_test_split(mnist[\"data\"], mnist[\"target\"],\n",
    "                                                   random_state=42)"
   ]
  },
  {
   "cell_type": "markdown",
   "metadata": {},
   "source": [
    "Next, we write it to a **memmap**"
   ]
  },
  {
   "cell_type": "code",
   "execution_count": null,
   "metadata": {},
   "outputs": [],
   "source": [
    "filename = \"my_mnist.data\"\n",
    "X_mm = np.memmap(filename, dtype=\"float32\", mode=\"write\", shape=X_train.shape)\n",
    "X_mm[:] = X_train"
   ]
  },
  {
   "cell_type": "code",
   "execution_count": null,
   "metadata": {},
   "outputs": [],
   "source": [
    "minibatch_kmeans = MiniBatchKMeans(n_clusters=10, batch_size=10, random_state=42)\n",
    "minibatch_kmeans.fit(X_mm)"
   ]
  },
  {
   "cell_type": "markdown",
   "metadata": {},
   "source": [
    "If the data is too large thus can't use **memmap**, things get more complicated. Let's start by loading the next bath (in real life, the data would be loaded from disk)"
   ]
  },
  {
   "cell_type": "code",
   "execution_count": null,
   "metadata": {},
   "outputs": [],
   "source": [
    "def load_next_batch(batch_size):\n",
    "    return X[np.random.choice(len(X), batch_size, replace=False)]"
   ]
  },
  {
   "cell_type": "markdown",
   "metadata": {},
   "source": [
    "Now train the model by feeding it one batch at a time. Also, implement multiple initializations and keep the model with the lowest inertia"
   ]
  },
  {
   "cell_type": "code",
   "execution_count": null,
   "metadata": {},
   "outputs": [],
   "source": [
    "np.random.seed(42)"
   ]
  },
  {
   "cell_type": "code",
   "execution_count": null,
   "metadata": {},
   "outputs": [],
   "source": [
    "k = 5\n",
    "n_init = 10\n",
    "n_iterations = 100\n",
    "batch_size = 100\n",
    "init_size = 500 #More data for K-Means++ initialization\n",
    "evaluate_on_last_n_iters = 10\n",
    "\n",
    "best_kmeans = None\n",
    "\n",
    "for init in range(n_init):\n",
    "    minibatch_kmeans = MiniBatchKMeans(n_clusters=k, init_size=init_size)\n",
    "    X_init = load_next_batch(init_size)\n",
    "    minibatch_kmeans.partial_fit(X_init)\n",
    "    \n",
    "    minibatch_kmeans.sum_inertia_ = 0\n",
    "    for iteration in range(n_iterations):\n",
    "        X_batch = load_next_batch(batch_size)\n",
    "        minibatch_kmeans.partial_fit(X_batch)\n",
    "        if iteration >= n_iterations - evaluate_on_last_n_iters:\n",
    "            minibatch_kmeans.sum_inertia_ += minibatch_kmeans.inertia_\n",
    "        \n",
    "    if (best_kmeans is None or\n",
    "       minibatch_kmeans.sum_inertia_ < best_kmeans.sum_inertia_):\n",
    "        best_kmeans = minibatch_kmeans"
   ]
  },
  {
   "cell_type": "code",
   "execution_count": null,
   "metadata": {},
   "outputs": [],
   "source": [
    "best_kmeans.score(X)"
   ]
  },
  {
   "cell_type": "markdown",
   "metadata": {},
   "source": [
    "Mini-batch K-Means is much faster than regular K-Means"
   ]
  },
  {
   "cell_type": "code",
   "execution_count": null,
   "metadata": {},
   "outputs": [],
   "source": [
    "%timeit KMeans(n_clusters=5, random_state=42).fit(X)"
   ]
  },
  {
   "cell_type": "code",
   "execution_count": null,
   "metadata": {},
   "outputs": [],
   "source": [
    "%timeit MiniBatchKMeans(n_clusters=5, random_state=42).fit(X)"
   ]
  },
  {
   "cell_type": "markdown",
   "metadata": {},
   "source": [
    "It's suppose to be faster, in our case it wasn't. It's performance is often lower (higher inertia), and it keeps degrading as $k$ increases."
   ]
  },
  {
   "cell_type": "markdown",
   "metadata": {},
   "source": [
    "Let's plot the inertia ratio and the training ratio between Mini-batch KMeans and regular KMeans"
   ]
  },
  {
   "cell_type": "code",
   "execution_count": null,
   "metadata": {},
   "outputs": [],
   "source": [
    "times = np.empty((100, 2))\n",
    "inertias = np.empty((100, 2))\n",
    "for k in range(1, 101):\n",
    "    kmeans_ = KMeans(n_clusters=k, random_state=42)\n",
    "    minibatch_kmeans = MiniBatchKMeans(n_clusters=k, random_state=42)\n",
    "    print(\"\\r{}/{}\".format(k, 100), end=\"\")\n",
    "    times[k-1, 0] = timeit(\"kmeans_.fit(X)\", number=10, globals=globals())\n",
    "    times[k-1, 1] = timeit(\"minibatch_kmeans.fit(X)\", number=10, globals=globals())\n",
    "    inertias[k-1, 0] = kmeans_.inertia_\n",
    "    inertias[k-1, 1] = minibatch_kmeans.inertia_"
   ]
  },
  {
   "cell_type": "code",
   "execution_count": null,
   "metadata": {},
   "outputs": [],
   "source": [
    "plt.figure(figsize=(10,4))\n",
    "\n",
    "plt.subplot(121)\n",
    "plt.plot(range(1, 101), inertias[:, 0], \"r--\", label=\"K-Means\")\n",
    "plt.plot(range(1, 101), inertias[:, 1], \"b.-\", label=\"Mini-batch K-Means\")\n",
    "plt.xlabel(\"$k$\", fontsize=14)\n",
    "plt.title(\"Inertia\", fontsize=14)\n",
    "plt.legend(fontsize=14)\n",
    "plt.axis([1, 100, 0 ,100])\n",
    "\n",
    "plt.subplot(122)\n",
    "plt.plot(range(1, 101), times[:, 0], \"r--\", label=\"K-Means\")\n",
    "plt.plot(range(1, 101), times[:, 1], \"b.-\", label=\"Mini-batch K-Means\")\n",
    "plt.xlabel(\"$k$\", fontsize=14)\n",
    "plt.title(\"Training time (sec)\", fontsize=14)\n",
    "plt.axis([1, 100, 0 ,6])\n",
    "\n",
    "save_fig(\"Clustering - KMeans and mini-batch inertias and time \")\n",
    "plt.show()\n",
    "print(\"Figure 9-6\")"
   ]
  },
  {
   "cell_type": "markdown",
   "metadata": {},
   "source": [
    "From figure 9-6, we can see on the left that as the **number of clusters(k) increases, Mini-batch K-Means inertia increases as well (worse inertia) - compared to regular K-Mneas.** Yet on the righ, **Mini-batch K-Means is much faster than K-Means.**"
   ]
  },
  {
   "cell_type": "markdown",
   "metadata": {},
   "source": [
    "##### Finding the optimal number of clusters"
   ]
  },
  {
   "cell_type": "markdown",
   "metadata": {},
   "source": [
    "**Approach #1**: Up until now we set the number of clusters $k$ to 5, because from a glance we knew that it was the correct number. Yet, we won't always have an easy time knowing the number of clusters, and setting the wrong value might give a bad model"
   ]
  },
  {
   "cell_type": "code",
   "execution_count": null,
   "metadata": {},
   "outputs": [],
   "source": [
    "kmeans_k3 = KMeans(n_clusters=3, random_state=42)\n",
    "kmeans_k8 = KMeans(n_clusters=8, random_state=42)\n",
    "\n",
    "plot_clusterer_comparison(kmeans_k3, kmeans_k8, X, \"$k=3$\", \"$k=8$\")\n",
    "save_fig(\"Clustering - KMeans, bad choices for number of clusters\")\n",
    "plt.show()\n",
    "print(\"Figure 9-7\")"
   ]
  },
  {
   "cell_type": "markdown",
   "metadata": {},
   "source": [
    "The models above don't look too great. We can check the inertias of both models and choose the lowest one"
   ]
  },
  {
   "cell_type": "code",
   "execution_count": null,
   "metadata": {},
   "outputs": [],
   "source": [
    "kmeans_k3.inertia_"
   ]
  },
  {
   "cell_type": "code",
   "execution_count": null,
   "metadata": {},
   "outputs": [],
   "source": [
    "kmeans_k8.inertia_"
   ]
  },
  {
   "cell_type": "markdown",
   "metadata": {},
   "source": [
    "The inertia for $k=3$ is 653.21, which is higher than for $k=5$. But with $k=8$ it's just 119.11. The **inertia isn't a good performance mertic when trying to choose $k$ because it keeps getting lower as we increase $k$.**\n",
    "\n",
    "Indeed, the more clusters there are, the closer each instance will be to its closest centroid, therefore, the lower the inertia will be. However, we can plot the inertia as a function of $k$ and analyze the resulting curve"
   ]
  },
  {
   "cell_type": "code",
   "execution_count": null,
   "metadata": {},
   "outputs": [],
   "source": [
    "kmeans_per_k = [KMeans(n_clusters=k, random_state=42).fit(X)\n",
    "               for k in range(1, 10)]\n",
    "inertias = [model.inertia_ for model in kmeans_per_k]"
   ]
  },
  {
   "cell_type": "code",
   "execution_count": null,
   "metadata": {},
   "outputs": [],
   "source": [
    "inertias[3]"
   ]
  },
  {
   "cell_type": "code",
   "execution_count": null,
   "metadata": {},
   "outputs": [],
   "source": [
    "plt.figure(figsize=(8, 3.5))\n",
    "plt.plot(range(1, 10), inertias, \"bo-\")\n",
    "plt.annotate(\"Elbow\", xy=(4, inertias[3]), xytext=(0.55, 0.55),\n",
    "             textcoords=\"figure fraction\", fontsize=16, \n",
    "             arrowprops=dict(facecolor=\"black\", shrink=0.1))\n",
    "plt.xlabel(\"$k$\", fontsize=14)\n",
    "plt.ylabel(\"Inertia\", fontsize=14)\n",
    "plt.axis([1, 8.5, 0, 1300])\n",
    "save_fig(\"Clustering - KMeans, inertia vs number of clusters\")\n",
    "plt.show()\n",
    "print(\"Figure 9-8\")"
   ]
  },
  {
   "cell_type": "markdown",
   "metadata": {},
   "source": [
    "There is an elbow at $k=4$ - less clusters is bad while more clusters wouldn't help and we might just be splitting good clusters in half for no good reason.\n",
    "\n",
    "Using this example, having $k=4$ isn't perfect because it means that the two blobs on the lower left will be considered as a single cluster. Nonetheless, it's still a good clustering"
   ]
  },
  {
   "cell_type": "code",
   "execution_count": null,
   "metadata": {},
   "outputs": [],
   "source": [
    "plot_decision_boundaries(kmeans_per_k[4-1], X)\n",
    "plt.show()"
   ]
  },
  {
   "cell_type": "markdown",
   "metadata": {},
   "source": [
    "**Approach #2**: Figuring out the number of clusters with the aforementioned technique is somewhat crude. A more precise approach (but more computationally expensive) is to use the ***silhouette score***, which is the mean ***silhouette coefficient*** over all the instances.\n",
    "\n",
    "An instances silhouette coefficient is equal to $(b-a) / max(a, b)$, where:\n",
    "- $a$ is the mean distance to the other instances in the same cluster (the _intra-cluster distance_)\n",
    "- $b$ is the _mean nearest-cluster distance_ that is the mean distance to the instances of the next closest cluster (defined as the one that minimizes $b$, excluding the instance's own cluster)\n",
    "\n",
    "The silhouette coefficient can vary between -1 to +1:\n",
    "- A coefficient close to +1 means that the instance is well inside its own cluster and far from other cluster\n",
    "- A coefficient close to 0 means that it's close to a cluster boundary\n",
    "- A coefficient close to -1 means that the instance may have been assigned to the wrong cluster"
   ]
  },
  {
   "cell_type": "markdown",
   "metadata": {},
   "source": [
    "Let's plot the silhouette score as a function of $k$:"
   ]
  },
  {
   "cell_type": "code",
   "execution_count": null,
   "metadata": {},
   "outputs": [],
   "source": [
    "silhouette_score(X, kmeans.labels_)"
   ]
  },
  {
   "cell_type": "code",
   "execution_count": null,
   "metadata": {},
   "outputs": [],
   "source": [
    "silhouette_scores = [silhouette_score(X, model.labels_)\n",
    "                     for model in kmeans_per_k[1:]]"
   ]
  },
  {
   "cell_type": "code",
   "execution_count": null,
   "metadata": {},
   "outputs": [],
   "source": [
    "plt.figure(figsize=(8,3))\n",
    "plt.plot(range(2, 10), silhouette_scores, \"bo-\")\n",
    "plt.xlabel(\"$k$\", fontsize=14)\n",
    "plt.ylabel(\"Silhouette scores\", fontsize=14)\n",
    "plt.axis([1.8, 8.5, 0.55, 0.7])\n",
    "save_fig(\"Clustering - KMeans, silhouette scores vs number of clusters\")\n",
    "plt.show()\n",
    "print(\"Figure 9-9\")"
   ]
  },
  {
   "cell_type": "markdown",
   "metadata": {},
   "source": [
    "The figure is much richer than the previous one; in particular, although it confirms that $k=4$ is a good choce, it also shows that $k=5$ is quite good as well"
   ]
  },
  {
   "cell_type": "markdown",
   "metadata": {},
   "source": [
    "To get an even more informative visualization, we can use the **silhoutette diagram** to plot every instance's silhouette coefficient sorted by the cluster they're assigned to and by the value of the coefficient"
   ]
  },
  {
   "cell_type": "code",
   "execution_count": null,
   "metadata": {},
   "outputs": [],
   "source": [
    "plt.figure(figsize=(11, 9))\n",
    "\n",
    "for k in (3, 4, 5, 6):\n",
    "    plt.subplot(2, 2, k-2)\n",
    "    \n",
    "    y_pred = kmeans_per_k[k-1].labels_\n",
    "    silhouette_coefficients = silhouette_samples(X, y_pred)\n",
    "    \n",
    "    padding = len(X) // 30\n",
    "    pos = padding\n",
    "    ticks = []\n",
    "    for i in range(k):\n",
    "        coeffs = silhouette_coefficients[y_pred == i]\n",
    "        coeffs.sort()\n",
    "        \n",
    "        color = mpl.cm.Spectral(i / k)\n",
    "        plt.fill_betweenx(np.arange(pos, pos + len(coeffs)), 0, coeffs,\n",
    "                         facecolor=color, edgecolor=color, alpha=0.7)\n",
    "        ticks.append(pos + len(coeffs) // 2)\n",
    "        pos += len(coeffs) + padding\n",
    "    \n",
    "    plt.gca().yaxis.set_major_locator(FixedLocator(ticks))\n",
    "    plt.gca().yaxis.set_major_formatter(FixedFormatter(range(k)))\n",
    "    if k in (3, 5):\n",
    "        plt.ylabel(\"Cluster\")\n",
    "    if k in (5, 6):\n",
    "        plt.gca().set_xticks([-0.1, 0, 0.2, 0.4, 0.6, 0.8, 1])\n",
    "        plt.xlabel(\"Silhouette coefficients\")\n",
    "    else:\n",
    "        plt.tick_params(labelbottom=False)\n",
    "    \n",
    "    plt.axvline(x=silhouette_scores[k-2], color=\"red\", linestyle=\"--\")\n",
    "    plt.title(\"$k={}$\".format(k), fontsize=16)\n",
    "    \n",
    "save_fig(\"Clustering - KMeans, silhouette diagramss analysis\")\n",
    "plt.show()\n",
    "print(\"Figure 9-10\")"
   ]
  },
  {
   "cell_type": "markdown",
   "metadata": {},
   "source": [
    "In the figure above, each diagram contains one knife shape per cluster. The **height** indicates the **number of instances** the cluster has, and its **width** represents the **sorted silhouette coefficients of the instances in the cluster (wider is better).** The **dashed line indicates the mean silhouette coefficient (mean silhouettescore).**"
   ]
  },
  {
   "cell_type": "markdown",
   "metadata": {},
   "source": [
    "We can see that $k=5$ is the best option, because all of the clusters are roughly the same size and they all cross the dashed line"
   ]
  },
  {
   "cell_type": "markdown",
   "metadata": {},
   "source": [
    "## Limits of the K-Means"
   ]
  },
  {
   "cell_type": "markdown",
   "metadata": {},
   "source": [
    "K-Means limits include the following:\n",
    "- Run the algorithm several times to avoid suboptimal solutions\n",
    "- Specify the number of clusters\n",
    "- Isn't optimized to handle clusters of varying size, different densities or nonspherical shapes"
   ]
  },
  {
   "cell_type": "markdown",
   "metadata": {},
   "source": [
    "Let's see how K-Means deals with a dataset containing 3 ellipsoidal clusters of different dimensions, densities and orientations"
   ]
  },
  {
   "cell_type": "code",
   "execution_count": null,
   "metadata": {},
   "outputs": [],
   "source": [
    "X1, y1 = make_blobs(n_samples=1000, centers=((4, -4), (0, 0)), random_state=42)\n",
    "X1 = X1.dot(np.array([[0.374, 0.95], [0.732, 0.598]]))\n",
    "X2, y2 = make_blobs(n_samples=250, centers=1, random_state=42)\n",
    "X2 = X2 + [6, -8]\n",
    "X = np.r_[X1, X2]\n",
    "y = np.r_[y1, y2]"
   ]
  },
  {
   "cell_type": "code",
   "execution_count": null,
   "metadata": {},
   "outputs": [],
   "source": [
    "plot_clusters(X)"
   ]
  },
  {
   "cell_type": "code",
   "execution_count": null,
   "metadata": {},
   "outputs": [],
   "source": [
    "kmeans_good = KMeans(n_clusters=3, init=np.array([[-1.5, 2.5], [0.5, 0], [4, 0]]),\n",
    "                    n_init=1, random_state=42)\n",
    "kmeans_bad = KMeans(n_clusters=3, random_state=42)\n",
    "kmeans_good.fit(X)                    \n",
    "kmeans_bad.fit(X)"
   ]
  },
  {
   "cell_type": "code",
   "execution_count": null,
   "metadata": {},
   "outputs": [],
   "source": [
    "plt.figure(figsize=(10, 3.2))\n",
    "\n",
    "plt.subplot(121)\n",
    "plot_decision_boundaries(kmeans_good, X)\n",
    "plt.title(\"Inertia = {:.1f}\".format(kmeans_good.inertia_), fontsize=14)\n",
    "\n",
    "plt.subplot(122)\n",
    "plot_decision_boundaries(kmeans_bad, X, show_ylabels=False)\n",
    "plt.title(\"Inertia = {:.1f}\".format(kmeans_bad.inertia_), fontsize=14)\n",
    "\n",
    "save_fig(\"Clustering - KMeans, limits of KMeans\")\n",
    "plt.show()\n",
    "print(\"Figure 9-11\")"
   ]
  },
  {
   "cell_type": "markdown",
   "metadata": {},
   "source": [
    "Evidently, we can't use any of the solutions. **The model on left plot**, is better but still chops off 25% of the middle cluster and assigns it to the cluster in the right, **The model on the right plot** is even worse, even though its inertia is lower.\n",
    "\n",
    "On these types of elliptical clusters, **Gaussian mixture models work better**."
   ]
  },
  {
   "cell_type": "markdown",
   "metadata": {},
   "source": [
    "> It's important to scale the input features before runnung K-Means, or the clusters may be very stretched and K-Means will perform poorly. Scaling doesn't gurantee that all clusters will be spherical, but it generally improves things"
   ]
  },
  {
   "cell_type": "markdown",
   "metadata": {},
   "source": [
    "## Using clustering for image segmentation"
   ]
  },
  {
   "cell_type": "markdown",
   "metadata": {},
   "source": [
    "**Image segmentation** is the task of partitioning an image into multiple segments. In **semantic segmentation**, all pixels that are part of the same object type get assigned to the same segment. \n",
    "\n",
    "For instance, in self driving car's vision system, pixels that represent a pedestrian's image might go to the \"pedestrian\" segment.\n",
    "\n",
    "In **instance segmentation**, all pixels that are part of the same individual object are assgined to the same segment. In this case, there would be a different segment for each pedestrian.\n",
    "\n",
    "In this section, we'll be using **color segmentation**. We will simply assign pixels to the same segment if they have a similar color. In some applications, this may be sufficient. For example, analyzing satellite images to measure how much total forest area there is in a region."
   ]
  },
  {
   "cell_type": "code",
   "execution_count": null,
   "metadata": {},
   "outputs": [],
   "source": [
    "filename = \"Ladybug.png\"\n",
    "image = imread(os.path.join(IMAGE_PATH, filename))\n",
    "image.shape"
   ]
  },
  {
   "cell_type": "markdown",
   "metadata": {},
   "source": [
    "The image is represented as a 3D array: Where 533=**height**, 800=**width** and 3=**number of color channels (RGB)**.\n",
    "\n",
    "The following code reshapes the array to get a long list of RGB colors, then it clusters these colors using K-Means. Next, for each color, it looks for the mean color of the pixel's color cluster. For examples, all shades of green may be replaced with the same light green color. Finally, it reshapes this long list of colors to get the same shape as the original image"
   ]
  },
  {
   "cell_type": "code",
   "execution_count": null,
   "metadata": {},
   "outputs": [],
   "source": [
    "X = image.reshape(-1, 3)\n",
    "kmeans = KMeans(n_clusters=8, random_state=42).fit(X)\n",
    "segmented_img = kmeans.cluster_centers_[kmeans.labels_]\n",
    "segmented_img = segmented_img.reshape(image.shape)"
   ]
  },
  {
   "cell_type": "code",
   "execution_count": null,
   "metadata": {},
   "outputs": [],
   "source": [
    "segmented_imgs = []\n",
    "n_colors = (10, 8, 6, 4, 2)\n",
    "for n_clusters in n_colors:\n",
    "    kmeans = KMeans(n_clusters=n_clusters, random_state=42).fit(X)\n",
    "    segmented_img = kmeans.cluster_centers_[kmeans.labels_]\n",
    "    segmented_imgs.append(segmented_img.reshape(image.shape))"
   ]
  },
  {
   "cell_type": "code",
   "execution_count": null,
   "metadata": {},
   "outputs": [],
   "source": [
    "plt.figure(figsize=(10,5))\n",
    "plt.subplots_adjust(wspace=0.05, hspace=0.1)\n",
    "\n",
    "plt.subplot(231)\n",
    "plt.imshow(image)\n",
    "plt.title(\"Original image\")\n",
    "plt.axis('off')\n",
    "\n",
    "for idx, n_clusters in enumerate(n_colors):\n",
    "    plt.subplot(232 + idx)\n",
    "    plt.imshow(segmented_imgs[idx])\n",
    "    plt.title(\"{} colors\".format(n_clusters))\n",
    "    plt.axis(\"off\")\n",
    "\n",
    "save_fig(\"Clustering - KMeans, Image segmentation using color clusters\")\n",
    "plt.show()\n",
    "print(\"Figure 9-12\")"
   ]
  },
  {
   "cell_type": "markdown",
   "metadata": {},
   "source": [
    "From the figure 9-12 we see that if fewer than 8 clusters is used, the ladybugs red color fails to get a cluster of its own - it merges with the environment. \n",
    "\n",
    "This is because K-Means prefers clusters of similar sizes. The ladybug is small, thus even though it has a distinct color, K-Means fail to dedicate a cluster to it"
   ]
  },
  {
   "cell_type": "markdown",
   "metadata": {},
   "source": [
    "## Using clustering for preprocessing"
   ]
  },
  {
   "cell_type": "markdown",
   "metadata": {},
   "source": [
    "Clustering is an efficient approach to dimensionality reduction, specially for a preprocessing step before a supervised learning algorithm"
   ]
  },
  {
   "cell_type": "code",
   "execution_count": 27,
   "metadata": {},
   "outputs": [],
   "source": [
    "X_digits, y_digits = load_digits(return_X_y=True)"
   ]
  },
  {
   "cell_type": "code",
   "execution_count": 28,
   "metadata": {},
   "outputs": [],
   "source": [
    "X_train, X_test, y_train, y_test = train_test_split(X_digits, y_digits,\n",
    "                                                    random_state=42)"
   ]
  },
  {
   "cell_type": "code",
   "execution_count": 29,
   "metadata": {},
   "outputs": [
    {
     "data": {
      "text/plain": [
       "LogisticRegression(max_iter=5000, multi_class='ovr', random_state=42)"
      ]
     },
     "execution_count": 29,
     "metadata": {},
     "output_type": "execute_result"
    }
   ],
   "source": [
    "log_reg = LogisticRegression(multi_class=\"ovr\", solver=\"lbfgs\", max_iter=5000,\n",
    "                            random_state=42)\n",
    "log_reg.fit(X_train, y_train)"
   ]
  },
  {
   "cell_type": "code",
   "execution_count": 30,
   "metadata": {},
   "outputs": [
    {
     "data": {
      "text/plain": [
       "0.9688888888888889"
      ]
     },
     "execution_count": 30,
     "metadata": {},
     "output_type": "execute_result"
    }
   ],
   "source": [
    "log_reg_score = log_reg.score(X_test, y_test)\n",
    "log_reg_score"
   ]
  },
  {
   "cell_type": "markdown",
   "metadata": {},
   "source": [
    "So the baseline is 96.88% accuracy. Let's use K-Means as the preprocessing step. We'll create a pipeline that will cluster the training set into 50 clusters and replace the images with their distances to these 50 clusters, then apply Logistic Regression"
   ]
  },
  {
   "cell_type": "code",
   "execution_count": 31,
   "metadata": {},
   "outputs": [
    {
     "data": {
      "text/plain": [
       "Pipeline(steps=[('kmeans', KMeans(n_clusters=50, random_state=42)),\n",
       "                ('log_reg',\n",
       "                 LogisticRegression(max_iter=5000, multi_class='ovr',\n",
       "                                    random_state=42))])"
      ]
     },
     "execution_count": 31,
     "metadata": {},
     "output_type": "execute_result"
    }
   ],
   "source": [
    "pipeline = Pipeline([\n",
    "    (\"kmeans\", KMeans(n_clusters=50, random_state=42)),\n",
    "    (\"log_reg\", LogisticRegression(multi_class=\"ovr\", solver=\"lbfgs\",\n",
    "                                   max_iter=5000, random_state=42))\n",
    "])\n",
    "pipeline.fit(X_train, y_train)"
   ]
  },
  {
   "cell_type": "code",
   "execution_count": 32,
   "metadata": {},
   "outputs": [
    {
     "data": {
      "text/plain": [
       "0.9777777777777777"
      ]
     },
     "execution_count": 32,
     "metadata": {},
     "output_type": "execute_result"
    }
   ],
   "source": [
    "pipeline_score = pipeline.score(X_test, y_test)\n",
    "pipeline_score"
   ]
  },
  {
   "cell_type": "markdown",
   "metadata": {},
   "source": [
    "How much did the error rate drop?"
   ]
  },
  {
   "cell_type": "code",
   "execution_count": 33,
   "metadata": {},
   "outputs": [
    {
     "data": {
      "text/plain": [
       "0.28571428571428414"
      ]
     },
     "execution_count": 33,
     "metadata": {},
     "output_type": "execute_result"
    }
   ],
   "source": [
    "1 - (1 - pipeline_score) / (1 - log_reg_score)"
   ]
  },
  {
   "cell_type": "markdown",
   "metadata": {},
   "source": [
    "We managed to reduce the error rate from 3.12% to 2.23% (that's a 28.57% reduction between Logistic Regression alone and K-Means and Logistic Regression together)"
   ]
  },
  {
   "cell_type": "markdown",
   "metadata": {},
   "source": [
    "But we chose the number of clusters $k$ completely arbitrarily, we can use GridSearchCV to find the best value for $k$ that results the best classification performance. \n",
    "\n",
    "This is possible because K-Means is just a **preprocessing step** in a classification pipeline, finding a good value for $k$ is simpler that earlier: there's no need for silhouette analysis or minimize the inertia."
   ]
  },
  {
   "cell_type": "code",
   "execution_count": 34,
   "metadata": {},
   "outputs": [
    {
     "name": "stdout",
     "output_type": "stream",
     "text": [
      "Fitting 3 folds for each of 98 candidates, totalling 294 fits\n",
      "[CV] END ...............................kmeans__n_clusters=2; total time=   0.0s\n",
      "[CV] END ...............................kmeans__n_clusters=2; total time=   0.0s\n",
      "[CV] END ...............................kmeans__n_clusters=2; total time=   0.0s\n",
      "[CV] END ...............................kmeans__n_clusters=3; total time=   0.1s\n",
      "[CV] END ...............................kmeans__n_clusters=3; total time=   0.1s\n",
      "[CV] END ...............................kmeans__n_clusters=3; total time=   0.0s\n",
      "[CV] END ...............................kmeans__n_clusters=4; total time=   0.1s\n",
      "[CV] END ...............................kmeans__n_clusters=4; total time=   0.1s\n",
      "[CV] END ...............................kmeans__n_clusters=4; total time=   0.1s\n",
      "[CV] END ...............................kmeans__n_clusters=5; total time=   0.1s\n",
      "[CV] END ...............................kmeans__n_clusters=5; total time=   0.1s\n",
      "[CV] END ...............................kmeans__n_clusters=5; total time=   0.1s\n",
      "[CV] END ...............................kmeans__n_clusters=6; total time=   0.2s\n",
      "[CV] END ...............................kmeans__n_clusters=6; total time=   0.1s\n",
      "[CV] END ...............................kmeans__n_clusters=6; total time=   0.1s\n",
      "[CV] END ...............................kmeans__n_clusters=7; total time=   0.2s\n",
      "[CV] END ...............................kmeans__n_clusters=7; total time=   0.2s\n",
      "[CV] END ...............................kmeans__n_clusters=7; total time=   0.2s\n",
      "[CV] END ...............................kmeans__n_clusters=8; total time=   0.3s\n",
      "[CV] END ...............................kmeans__n_clusters=8; total time=   0.3s\n",
      "[CV] END ...............................kmeans__n_clusters=8; total time=   0.3s\n",
      "[CV] END ...............................kmeans__n_clusters=9; total time=   0.4s\n",
      "[CV] END ...............................kmeans__n_clusters=9; total time=   0.4s\n",
      "[CV] END ...............................kmeans__n_clusters=9; total time=   0.4s\n",
      "[CV] END ..............................kmeans__n_clusters=10; total time=   0.5s\n",
      "[CV] END ..............................kmeans__n_clusters=10; total time=   0.5s\n",
      "[CV] END ..............................kmeans__n_clusters=10; total time=   0.4s\n",
      "[CV] END ..............................kmeans__n_clusters=11; total time=   0.5s\n",
      "[CV] END ..............................kmeans__n_clusters=11; total time=   0.6s\n",
      "[CV] END ..............................kmeans__n_clusters=11; total time=   0.5s\n",
      "[CV] END ..............................kmeans__n_clusters=12; total time=   0.7s\n",
      "[CV] END ..............................kmeans__n_clusters=12; total time=   0.6s\n",
      "[CV] END ..............................kmeans__n_clusters=12; total time=   0.7s\n",
      "[CV] END ..............................kmeans__n_clusters=13; total time=   0.8s\n",
      "[CV] END ..............................kmeans__n_clusters=13; total time=   0.9s\n",
      "[CV] END ..............................kmeans__n_clusters=13; total time=   0.9s\n",
      "[CV] END ..............................kmeans__n_clusters=14; total time=   1.0s\n",
      "[CV] END ..............................kmeans__n_clusters=14; total time=   1.1s\n",
      "[CV] END ..............................kmeans__n_clusters=14; total time=   1.0s\n",
      "[CV] END ..............................kmeans__n_clusters=15; total time=   1.1s\n",
      "[CV] END ..............................kmeans__n_clusters=15; total time=   1.0s\n",
      "[CV] END ..............................kmeans__n_clusters=15; total time=   1.1s\n",
      "[CV] END ..............................kmeans__n_clusters=16; total time=   1.3s\n",
      "[CV] END ..............................kmeans__n_clusters=16; total time=   1.2s\n",
      "[CV] END ..............................kmeans__n_clusters=16; total time=   1.1s\n",
      "[CV] END ..............................kmeans__n_clusters=17; total time=   1.3s\n",
      "[CV] END ..............................kmeans__n_clusters=17; total time=   1.3s\n",
      "[CV] END ..............................kmeans__n_clusters=17; total time=   1.3s\n",
      "[CV] END ..............................kmeans__n_clusters=18; total time=   1.5s\n",
      "[CV] END ..............................kmeans__n_clusters=18; total time=   1.3s\n",
      "[CV] END ..............................kmeans__n_clusters=18; total time=   1.4s\n",
      "[CV] END ..............................kmeans__n_clusters=19; total time=   1.6s\n",
      "[CV] END ..............................kmeans__n_clusters=19; total time=   1.6s\n",
      "[CV] END ..............................kmeans__n_clusters=19; total time=   1.5s\n",
      "[CV] END ..............................kmeans__n_clusters=20; total time=   1.8s\n",
      "[CV] END ..............................kmeans__n_clusters=20; total time=   1.8s\n",
      "[CV] END ..............................kmeans__n_clusters=20; total time=   1.4s\n",
      "[CV] END ..............................kmeans__n_clusters=21; total time=   1.7s\n",
      "[CV] END ..............................kmeans__n_clusters=21; total time=   1.8s\n",
      "[CV] END ..............................kmeans__n_clusters=21; total time=   1.7s\n",
      "[CV] END ..............................kmeans__n_clusters=22; total time=   2.0s\n",
      "[CV] END ..............................kmeans__n_clusters=22; total time=   1.9s\n",
      "[CV] END ..............................kmeans__n_clusters=22; total time=   1.8s\n",
      "[CV] END ..............................kmeans__n_clusters=23; total time=   1.9s\n",
      "[CV] END ..............................kmeans__n_clusters=23; total time=   1.9s\n",
      "[CV] END ..............................kmeans__n_clusters=23; total time=   1.8s\n",
      "[CV] END ..............................kmeans__n_clusters=24; total time=   2.0s\n",
      "[CV] END ..............................kmeans__n_clusters=24; total time=   2.0s\n",
      "[CV] END ..............................kmeans__n_clusters=24; total time=   1.9s\n",
      "[CV] END ..............................kmeans__n_clusters=25; total time=   2.0s\n",
      "[CV] END ..............................kmeans__n_clusters=25; total time=   2.0s\n",
      "[CV] END ..............................kmeans__n_clusters=25; total time=   2.1s\n",
      "[CV] END ..............................kmeans__n_clusters=26; total time=   2.1s\n",
      "[CV] END ..............................kmeans__n_clusters=26; total time=   2.2s\n",
      "[CV] END ..............................kmeans__n_clusters=26; total time=   2.1s\n",
      "[CV] END ..............................kmeans__n_clusters=27; total time=   2.1s\n",
      "[CV] END ..............................kmeans__n_clusters=27; total time=   2.1s\n",
      "[CV] END ..............................kmeans__n_clusters=27; total time=   1.9s\n",
      "[CV] END ..............................kmeans__n_clusters=28; total time=   2.2s\n",
      "[CV] END ..............................kmeans__n_clusters=28; total time=   2.2s\n",
      "[CV] END ..............................kmeans__n_clusters=28; total time=   2.0s\n",
      "[CV] END ..............................kmeans__n_clusters=29; total time=   2.0s\n",
      "[CV] END ..............................kmeans__n_clusters=29; total time=   2.5s\n",
      "[CV] END ..............................kmeans__n_clusters=29; total time=   2.2s\n",
      "[CV] END ..............................kmeans__n_clusters=30; total time=   1.9s\n",
      "[CV] END ..............................kmeans__n_clusters=30; total time=   2.6s\n",
      "[CV] END ..............................kmeans__n_clusters=30; total time=   2.3s\n",
      "[CV] END ..............................kmeans__n_clusters=31; total time=   2.7s\n",
      "[CV] END ..............................kmeans__n_clusters=31; total time=   2.1s\n",
      "[CV] END ..............................kmeans__n_clusters=31; total time=   2.1s\n",
      "[CV] END ..............................kmeans__n_clusters=32; total time=   2.8s\n",
      "[CV] END ..............................kmeans__n_clusters=32; total time=   2.5s\n",
      "[CV] END ..............................kmeans__n_clusters=32; total time=   2.2s\n",
      "[CV] END ..............................kmeans__n_clusters=33; total time=   2.4s\n",
      "[CV] END ..............................kmeans__n_clusters=33; total time=   2.4s\n",
      "[CV] END ..............................kmeans__n_clusters=33; total time=   2.3s\n",
      "[CV] END ..............................kmeans__n_clusters=34; total time=   2.7s\n",
      "[CV] END ..............................kmeans__n_clusters=34; total time=   2.5s\n",
      "[CV] END ..............................kmeans__n_clusters=34; total time=   2.2s\n",
      "[CV] END ..............................kmeans__n_clusters=35; total time=   2.3s\n",
      "[CV] END ..............................kmeans__n_clusters=35; total time=   2.6s\n"
     ]
    },
    {
     "name": "stdout",
     "output_type": "stream",
     "text": [
      "[CV] END ..............................kmeans__n_clusters=35; total time=   2.3s\n",
      "[CV] END ..............................kmeans__n_clusters=36; total time=   2.4s\n",
      "[CV] END ..............................kmeans__n_clusters=36; total time=   2.6s\n",
      "[CV] END ..............................kmeans__n_clusters=36; total time=   2.2s\n",
      "[CV] END ..............................kmeans__n_clusters=37; total time=   2.6s\n",
      "[CV] END ..............................kmeans__n_clusters=37; total time=   2.5s\n",
      "[CV] END ..............................kmeans__n_clusters=37; total time=   2.0s\n",
      "[CV] END ..............................kmeans__n_clusters=38; total time=   2.6s\n",
      "[CV] END ..............................kmeans__n_clusters=38; total time=   2.3s\n",
      "[CV] END ..............................kmeans__n_clusters=38; total time=   2.4s\n",
      "[CV] END ..............................kmeans__n_clusters=39; total time=   2.5s\n",
      "[CV] END ..............................kmeans__n_clusters=39; total time=   2.6s\n",
      "[CV] END ..............................kmeans__n_clusters=39; total time=   2.8s\n",
      "[CV] END ..............................kmeans__n_clusters=40; total time=   2.5s\n",
      "[CV] END ..............................kmeans__n_clusters=40; total time=   2.5s\n",
      "[CV] END ..............................kmeans__n_clusters=40; total time=   2.4s\n",
      "[CV] END ..............................kmeans__n_clusters=41; total time=   2.5s\n",
      "[CV] END ..............................kmeans__n_clusters=41; total time=   2.5s\n",
      "[CV] END ..............................kmeans__n_clusters=41; total time=   2.5s\n",
      "[CV] END ..............................kmeans__n_clusters=42; total time=   2.5s\n",
      "[CV] END ..............................kmeans__n_clusters=42; total time=   2.7s\n",
      "[CV] END ..............................kmeans__n_clusters=42; total time=   2.7s\n",
      "[CV] END ..............................kmeans__n_clusters=43; total time=   2.6s\n",
      "[CV] END ..............................kmeans__n_clusters=43; total time=   2.5s\n",
      "[CV] END ..............................kmeans__n_clusters=43; total time=   2.7s\n",
      "[CV] END ..............................kmeans__n_clusters=44; total time=   2.7s\n",
      "[CV] END ..............................kmeans__n_clusters=44; total time=   2.6s\n",
      "[CV] END ..............................kmeans__n_clusters=44; total time=   2.4s\n",
      "[CV] END ..............................kmeans__n_clusters=45; total time=   2.8s\n",
      "[CV] END ..............................kmeans__n_clusters=45; total time=   2.7s\n",
      "[CV] END ..............................kmeans__n_clusters=45; total time=   2.6s\n",
      "[CV] END ..............................kmeans__n_clusters=46; total time=   2.7s\n",
      "[CV] END ..............................kmeans__n_clusters=46; total time=   3.1s\n",
      "[CV] END ..............................kmeans__n_clusters=46; total time=   2.7s\n",
      "[CV] END ..............................kmeans__n_clusters=47; total time=   2.9s\n",
      "[CV] END ..............................kmeans__n_clusters=47; total time=   2.5s\n",
      "[CV] END ..............................kmeans__n_clusters=47; total time=   2.5s\n",
      "[CV] END ..............................kmeans__n_clusters=48; total time=   2.6s\n",
      "[CV] END ..............................kmeans__n_clusters=48; total time=   2.8s\n",
      "[CV] END ..............................kmeans__n_clusters=48; total time=   2.3s\n",
      "[CV] END ..............................kmeans__n_clusters=49; total time=   2.9s\n",
      "[CV] END ..............................kmeans__n_clusters=49; total time=   2.7s\n",
      "[CV] END ..............................kmeans__n_clusters=49; total time=   2.6s\n",
      "[CV] END ..............................kmeans__n_clusters=50; total time=   2.7s\n",
      "[CV] END ..............................kmeans__n_clusters=50; total time=   2.8s\n",
      "[CV] END ..............................kmeans__n_clusters=50; total time=   2.8s\n",
      "[CV] END ..............................kmeans__n_clusters=51; total time=   2.8s\n",
      "[CV] END ..............................kmeans__n_clusters=51; total time=   2.7s\n",
      "[CV] END ..............................kmeans__n_clusters=51; total time=   2.7s\n",
      "[CV] END ..............................kmeans__n_clusters=52; total time=   2.5s\n",
      "[CV] END ..............................kmeans__n_clusters=52; total time=   2.8s\n",
      "[CV] END ..............................kmeans__n_clusters=52; total time=   2.8s\n",
      "[CV] END ..............................kmeans__n_clusters=53; total time=   2.5s\n",
      "[CV] END ..............................kmeans__n_clusters=53; total time=   2.5s\n",
      "[CV] END ..............................kmeans__n_clusters=53; total time=   2.4s\n",
      "[CV] END ..............................kmeans__n_clusters=54; total time=   2.6s\n",
      "[CV] END ..............................kmeans__n_clusters=54; total time=   3.0s\n",
      "[CV] END ..............................kmeans__n_clusters=54; total time=   2.5s\n",
      "[CV] END ..............................kmeans__n_clusters=55; total time=   2.5s\n",
      "[CV] END ..............................kmeans__n_clusters=55; total time=   2.7s\n",
      "[CV] END ..............................kmeans__n_clusters=55; total time=   2.7s\n",
      "[CV] END ..............................kmeans__n_clusters=56; total time=   2.5s\n",
      "[CV] END ..............................kmeans__n_clusters=56; total time=   2.6s\n",
      "[CV] END ..............................kmeans__n_clusters=56; total time=   2.9s\n",
      "[CV] END ..............................kmeans__n_clusters=57; total time=   2.7s\n",
      "[CV] END ..............................kmeans__n_clusters=57; total time=   2.9s\n",
      "[CV] END ..............................kmeans__n_clusters=57; total time=   2.6s\n",
      "[CV] END ..............................kmeans__n_clusters=58; total time=   2.8s\n",
      "[CV] END ..............................kmeans__n_clusters=58; total time=   3.2s\n",
      "[CV] END ..............................kmeans__n_clusters=58; total time=   2.7s\n",
      "[CV] END ..............................kmeans__n_clusters=59; total time=   2.8s\n",
      "[CV] END ..............................kmeans__n_clusters=59; total time=   2.4s\n",
      "[CV] END ..............................kmeans__n_clusters=59; total time=   2.6s\n",
      "[CV] END ..............................kmeans__n_clusters=60; total time=   2.6s\n",
      "[CV] END ..............................kmeans__n_clusters=60; total time=   3.0s\n",
      "[CV] END ..............................kmeans__n_clusters=60; total time=   2.6s\n",
      "[CV] END ..............................kmeans__n_clusters=61; total time=   2.7s\n",
      "[CV] END ..............................kmeans__n_clusters=61; total time=   2.8s\n",
      "[CV] END ..............................kmeans__n_clusters=61; total time=   2.8s\n",
      "[CV] END ..............................kmeans__n_clusters=62; total time=   2.9s\n",
      "[CV] END ..............................kmeans__n_clusters=62; total time=   3.1s\n",
      "[CV] END ..............................kmeans__n_clusters=62; total time=   2.7s\n",
      "[CV] END ..............................kmeans__n_clusters=63; total time=   2.6s\n",
      "[CV] END ..............................kmeans__n_clusters=63; total time=   3.4s\n",
      "[CV] END ..............................kmeans__n_clusters=63; total time=   3.0s\n",
      "[CV] END ..............................kmeans__n_clusters=64; total time=   2.5s\n",
      "[CV] END ..............................kmeans__n_clusters=64; total time=   2.7s\n",
      "[CV] END ..............................kmeans__n_clusters=64; total time=   2.8s\n",
      "[CV] END ..............................kmeans__n_clusters=65; total time=   2.7s\n",
      "[CV] END ..............................kmeans__n_clusters=65; total time=   3.5s\n",
      "[CV] END ..............................kmeans__n_clusters=65; total time=   3.1s\n",
      "[CV] END ..............................kmeans__n_clusters=66; total time=   3.2s\n",
      "[CV] END ..............................kmeans__n_clusters=66; total time=   2.9s\n",
      "[CV] END ..............................kmeans__n_clusters=66; total time=   3.1s\n",
      "[CV] END ..............................kmeans__n_clusters=67; total time=   2.9s\n",
      "[CV] END ..............................kmeans__n_clusters=67; total time=   2.9s\n",
      "[CV] END ..............................kmeans__n_clusters=67; total time=   2.9s\n",
      "[CV] END ..............................kmeans__n_clusters=68; total time=   2.7s\n",
      "[CV] END ..............................kmeans__n_clusters=68; total time=   2.8s\n",
      "[CV] END ..............................kmeans__n_clusters=68; total time=   2.6s\n",
      "[CV] END ..............................kmeans__n_clusters=69; total time=   2.8s\n",
      "[CV] END ..............................kmeans__n_clusters=69; total time=   3.2s\n"
     ]
    },
    {
     "name": "stdout",
     "output_type": "stream",
     "text": [
      "[CV] END ..............................kmeans__n_clusters=69; total time=   2.9s\n",
      "[CV] END ..............................kmeans__n_clusters=70; total time=   2.6s\n",
      "[CV] END ..............................kmeans__n_clusters=70; total time=   2.9s\n",
      "[CV] END ..............................kmeans__n_clusters=70; total time=   3.4s\n",
      "[CV] END ..............................kmeans__n_clusters=71; total time=   2.7s\n",
      "[CV] END ..............................kmeans__n_clusters=71; total time=   2.9s\n",
      "[CV] END ..............................kmeans__n_clusters=71; total time=   3.3s\n",
      "[CV] END ..............................kmeans__n_clusters=72; total time=   3.1s\n",
      "[CV] END ..............................kmeans__n_clusters=72; total time=   3.0s\n",
      "[CV] END ..............................kmeans__n_clusters=72; total time=   2.8s\n",
      "[CV] END ..............................kmeans__n_clusters=73; total time=   2.8s\n",
      "[CV] END ..............................kmeans__n_clusters=73; total time=   3.2s\n",
      "[CV] END ..............................kmeans__n_clusters=73; total time=   3.2s\n",
      "[CV] END ..............................kmeans__n_clusters=74; total time=   3.0s\n",
      "[CV] END ..............................kmeans__n_clusters=74; total time=   3.1s\n",
      "[CV] END ..............................kmeans__n_clusters=74; total time=   3.3s\n",
      "[CV] END ..............................kmeans__n_clusters=75; total time=   4.2s\n",
      "[CV] END ..............................kmeans__n_clusters=75; total time=   3.5s\n",
      "[CV] END ..............................kmeans__n_clusters=75; total time=   2.9s\n",
      "[CV] END ..............................kmeans__n_clusters=76; total time=   3.6s\n",
      "[CV] END ..............................kmeans__n_clusters=76; total time=   2.8s\n",
      "[CV] END ..............................kmeans__n_clusters=76; total time=   2.4s\n",
      "[CV] END ..............................kmeans__n_clusters=77; total time=   3.0s\n",
      "[CV] END ..............................kmeans__n_clusters=77; total time=   3.2s\n",
      "[CV] END ..............................kmeans__n_clusters=77; total time=   2.7s\n",
      "[CV] END ..............................kmeans__n_clusters=78; total time=   2.7s\n",
      "[CV] END ..............................kmeans__n_clusters=78; total time=   3.0s\n",
      "[CV] END ..............................kmeans__n_clusters=78; total time=   3.2s\n",
      "[CV] END ..............................kmeans__n_clusters=79; total time=   3.2s\n",
      "[CV] END ..............................kmeans__n_clusters=79; total time=   3.0s\n",
      "[CV] END ..............................kmeans__n_clusters=79; total time=   2.6s\n",
      "[CV] END ..............................kmeans__n_clusters=80; total time=   3.0s\n",
      "[CV] END ..............................kmeans__n_clusters=80; total time=   3.0s\n",
      "[CV] END ..............................kmeans__n_clusters=80; total time=   2.8s\n",
      "[CV] END ..............................kmeans__n_clusters=81; total time=   3.2s\n",
      "[CV] END ..............................kmeans__n_clusters=81; total time=   3.0s\n",
      "[CV] END ..............................kmeans__n_clusters=81; total time=   2.8s\n",
      "[CV] END ..............................kmeans__n_clusters=82; total time=   3.0s\n",
      "[CV] END ..............................kmeans__n_clusters=82; total time=   3.2s\n",
      "[CV] END ..............................kmeans__n_clusters=82; total time=   3.1s\n",
      "[CV] END ..............................kmeans__n_clusters=83; total time=   3.0s\n",
      "[CV] END ..............................kmeans__n_clusters=83; total time=   3.1s\n",
      "[CV] END ..............................kmeans__n_clusters=83; total time=   2.8s\n",
      "[CV] END ..............................kmeans__n_clusters=84; total time=   2.9s\n",
      "[CV] END ..............................kmeans__n_clusters=84; total time=   3.6s\n",
      "[CV] END ..............................kmeans__n_clusters=84; total time=   2.7s\n",
      "[CV] END ..............................kmeans__n_clusters=85; total time=   2.8s\n",
      "[CV] END ..............................kmeans__n_clusters=85; total time=   3.2s\n",
      "[CV] END ..............................kmeans__n_clusters=85; total time=   3.3s\n",
      "[CV] END ..............................kmeans__n_clusters=86; total time=   3.2s\n",
      "[CV] END ..............................kmeans__n_clusters=86; total time=   3.2s\n",
      "[CV] END ..............................kmeans__n_clusters=86; total time=   2.9s\n",
      "[CV] END ..............................kmeans__n_clusters=87; total time=   2.9s\n",
      "[CV] END ..............................kmeans__n_clusters=87; total time=   3.4s\n",
      "[CV] END ..............................kmeans__n_clusters=87; total time=   3.2s\n",
      "[CV] END ..............................kmeans__n_clusters=88; total time=   2.9s\n",
      "[CV] END ..............................kmeans__n_clusters=88; total time=   3.1s\n",
      "[CV] END ..............................kmeans__n_clusters=88; total time=   2.9s\n",
      "[CV] END ..............................kmeans__n_clusters=89; total time=   3.1s\n",
      "[CV] END ..............................kmeans__n_clusters=89; total time=   3.2s\n",
      "[CV] END ..............................kmeans__n_clusters=89; total time=   3.0s\n",
      "[CV] END ..............................kmeans__n_clusters=90; total time=   3.3s\n",
      "[CV] END ..............................kmeans__n_clusters=90; total time=   3.1s\n",
      "[CV] END ..............................kmeans__n_clusters=90; total time=   3.0s\n",
      "[CV] END ..............................kmeans__n_clusters=91; total time=   3.0s\n",
      "[CV] END ..............................kmeans__n_clusters=91; total time=   3.3s\n",
      "[CV] END ..............................kmeans__n_clusters=91; total time=   3.0s\n",
      "[CV] END ..............................kmeans__n_clusters=92; total time=   3.0s\n",
      "[CV] END ..............................kmeans__n_clusters=92; total time=   2.8s\n",
      "[CV] END ..............................kmeans__n_clusters=92; total time=   2.8s\n",
      "[CV] END ..............................kmeans__n_clusters=93; total time=   3.0s\n",
      "[CV] END ..............................kmeans__n_clusters=93; total time=   3.2s\n",
      "[CV] END ..............................kmeans__n_clusters=93; total time=   2.6s\n",
      "[CV] END ..............................kmeans__n_clusters=94; total time=   3.1s\n",
      "[CV] END ..............................kmeans__n_clusters=94; total time=   3.4s\n",
      "[CV] END ..............................kmeans__n_clusters=94; total time=   2.7s\n",
      "[CV] END ..............................kmeans__n_clusters=95; total time=   3.0s\n",
      "[CV] END ..............................kmeans__n_clusters=95; total time=   3.2s\n",
      "[CV] END ..............................kmeans__n_clusters=95; total time=   2.7s\n",
      "[CV] END ..............................kmeans__n_clusters=96; total time=   2.9s\n",
      "[CV] END ..............................kmeans__n_clusters=96; total time=   3.5s\n",
      "[CV] END ..............................kmeans__n_clusters=96; total time=   3.0s\n",
      "[CV] END ..............................kmeans__n_clusters=97; total time=   3.4s\n",
      "[CV] END ..............................kmeans__n_clusters=97; total time=   3.5s\n",
      "[CV] END ..............................kmeans__n_clusters=97; total time=   3.1s\n",
      "[CV] END ..............................kmeans__n_clusters=98; total time=   3.1s\n",
      "[CV] END ..............................kmeans__n_clusters=98; total time=   2.7s\n",
      "[CV] END ..............................kmeans__n_clusters=98; total time=   2.8s\n",
      "[CV] END ..............................kmeans__n_clusters=99; total time=   3.3s\n",
      "[CV] END ..............................kmeans__n_clusters=99; total time=   3.8s\n",
      "[CV] END ..............................kmeans__n_clusters=99; total time=   2.7s\n"
     ]
    },
    {
     "data": {
      "text/plain": [
       "GridSearchCV(cv=3,\n",
       "             estimator=Pipeline(steps=[('kmeans',\n",
       "                                        KMeans(n_clusters=50, random_state=42)),\n",
       "                                       ('log_reg',\n",
       "                                        LogisticRegression(max_iter=5000,\n",
       "                                                           multi_class='ovr',\n",
       "                                                           random_state=42))]),\n",
       "             param_grid={'kmeans__n_clusters': range(2, 100)}, verbose=2)"
      ]
     },
     "execution_count": 34,
     "metadata": {},
     "output_type": "execute_result"
    }
   ],
   "source": [
    "param_grid = dict(kmeans__n_clusters=range(2, 100))\n",
    "grid_clf = GridSearchCV(pipeline, param_grid, cv=3, verbose=2)\n",
    "grid_clf.fit(X_train, y_train)"
   ]
  },
  {
   "cell_type": "code",
   "execution_count": 35,
   "metadata": {},
   "outputs": [
    {
     "data": {
      "text/plain": [
       "{'kmeans__n_clusters': 88}"
      ]
     },
     "execution_count": 35,
     "metadata": {},
     "output_type": "execute_result"
    }
   ],
   "source": [
    "grid_clf.best_params_"
   ]
  },
  {
   "cell_type": "code",
   "execution_count": 36,
   "metadata": {},
   "outputs": [
    {
     "data": {
      "text/plain": [
       "0.9844444444444445"
      ]
     },
     "execution_count": 36,
     "metadata": {},
     "output_type": "execute_result"
    }
   ],
   "source": [
    "grid_clf.score(X_test, y_test)"
   ]
  },
  {
   "cell_type": "markdown",
   "metadata": {},
   "source": [
    "With $k$=88 clusters, we got an accuracy boost, reaching 98.22$ accuracy on the test set"
   ]
  },
  {
   "cell_type": "markdown",
   "metadata": {},
   "source": [
    "## Using clustering for semi-supervised learning"
   ]
  },
  {
   "cell_type": "markdown",
   "metadata": {},
   "source": [
    "We can use clustering in semi-supervised learning when we have plenty of unlabeled instances and very few labeled instances"
   ]
  },
  {
   "cell_type": "code",
   "execution_count": 37,
   "metadata": {},
   "outputs": [],
   "source": [
    "n_labeled = 50"
   ]
  },
  {
   "cell_type": "code",
   "execution_count": 38,
   "metadata": {},
   "outputs": [
    {
     "data": {
      "text/plain": [
       "LogisticRegression(multi_class='ovr', random_state=42)"
      ]
     },
     "execution_count": 38,
     "metadata": {},
     "output_type": "execute_result"
    }
   ],
   "source": [
    "log_reg_semi = LogisticRegression(multi_class=\"ovr\", solver=\"lbfgs\",\n",
    "                                 random_state=42)\n",
    "log_reg_semi.fit(X_train[:n_labeled], y_train[:n_labeled])"
   ]
  },
  {
   "cell_type": "code",
   "execution_count": 39,
   "metadata": {},
   "outputs": [
    {
     "data": {
      "text/plain": [
       "0.8333333333333334"
      ]
     },
     "execution_count": 39,
     "metadata": {},
     "output_type": "execute_result"
    }
   ],
   "source": [
    "log_reg_semi.score(X_test, y_test)"
   ]
  },
  {
   "cell_type": "markdown",
   "metadata": {},
   "source": [
    "It's not as high as with the other models. Let's see if we can do better by clustering the training set to 50 clusters, then for each cluster, find the image closest to the centroid. We'll call this iamges the **representative images**"
   ]
  },
  {
   "cell_type": "code",
   "execution_count": 40,
   "metadata": {},
   "outputs": [],
   "source": [
    "k = 50"
   ]
  },
  {
   "cell_type": "code",
   "execution_count": 41,
   "metadata": {},
   "outputs": [],
   "source": [
    "kmeans_semi = KMeans(n_clusters=k, random_state=42)\n",
    "X_digits_dist = kmeans_semi.fit_transform(X_train)\n",
    "representative_digit_idx = np.argmin(X_digits_dist, axis=0)\n",
    "X_representative_digits = X_train[representative_digit_idx]"
   ]
  },
  {
   "cell_type": "markdown",
   "metadata": {},
   "source": [
    "Let's plot the images and label them manually"
   ]
  },
  {
   "cell_type": "code",
   "execution_count": 42,
   "metadata": {},
   "outputs": [
    {
     "name": "stdout",
     "output_type": "stream",
     "text": [
      "Saving figure, Clustering - KMeans, Semi-supervised learning with digits\n"
     ]
    },
    {
     "data": {
      "image/png": "[encoded data removed]",
      "text/plain": [
       "<Figure size 576x144 with 50 Axes>"
      ]
     },
     "metadata": {
      "needs_background": "light"
     },
     "output_type": "display_data"
    },
    {
     "name": "stdout",
     "output_type": "stream",
     "text": [
      "Figure 9-13\n"
     ]
    }
   ],
   "source": [
    "plt.figure(figsize=(8, 2))\n",
    "\n",
    "for i, digit in enumerate(X_representative_digits):\n",
    "    plt.subplot(k // 10, 10, i + 1 )\n",
    "    plt.imshow(digit.reshape(8, 8), cmap=\"binary\", interpolation=\"bilinear\")\n",
    "    plt.axis(\"off\")\n",
    "\n",
    "save_fig(\"Clustering - KMeans, Semi-supervised learning with digits\", tight_layout=False)\n",
    "plt.show()\n",
    "print(\"Figure 9-13\")"
   ]
  },
  {
   "cell_type": "markdown",
   "metadata": {},
   "source": [
    "Let's look at each image and manually label it"
   ]
  },
  {
   "cell_type": "code",
   "execution_count": 43,
   "metadata": {},
   "outputs": [
    {
     "data": {
      "text/plain": [
       "array([4, 8, 0, 6, 8, 3, 7, 7, 9, 2, 5, 5, 8, 5, 2, 1, 2, 9, 6, 1, 1, 6,\n",
       "       9, 0, 8, 3, 0, 7, 4, 1, 6, 5, 2, 4, 1, 8, 6, 3, 9, 2, 4, 2, 9, 4,\n",
       "       7, 6, 2, 3, 1, 1])"
      ]
     },
     "execution_count": 43,
     "metadata": {},
     "output_type": "execute_result"
    }
   ],
   "source": [
    "y_train[representative_digit_idx]"
   ]
  },
  {
   "cell_type": "code",
   "execution_count": 44,
   "metadata": {},
   "outputs": [],
   "source": [
    "y_representative_digits = np.array([\n",
    "    4, 8, 0, 6, 8, 3, 7, 7, 9, 2,\n",
    "    5, 5, 8, 5, 2, 1, 2, 9, 6, 1,\n",
    "    1, 6, 9, 0, 8, 3, 0, 7, 4, 1,\n",
    "    6, 5, 2, 4, 1, 8, 6, 3, 9, 2,\n",
    "    4, 2, 9, 4, 7, 6, 2, 3, 1, 1\n",
    "])"
   ]
  },
  {
   "cell_type": "markdown",
   "metadata": {},
   "source": [
    "Now there's a dataset with 50 labeled instances, but instead of completely being random, each of them is a representative image of its cluster. Let's see if the performance is better"
   ]
  },
  {
   "cell_type": "code",
   "execution_count": 46,
   "metadata": {},
   "outputs": [
    {
     "data": {
      "text/plain": [
       "LogisticRegression(max_iter=5000, multi_class='ovr', random_state=42)"
      ]
     },
     "execution_count": 46,
     "metadata": {},
     "output_type": "execute_result"
    }
   ],
   "source": [
    "log_reg_semi = LogisticRegression(multi_class=\"ovr\", solver=\"lbfgs\",\n",
    "                                  max_iter=5000, random_state=42)\n",
    "log_reg_semi.fit(X_representative_digits, y_representative_digits)"
   ]
  },
  {
   "cell_type": "code",
   "execution_count": 47,
   "metadata": {},
   "outputs": [
    {
     "data": {
      "text/plain": [
       "0.9222222222222223"
      ]
     },
     "execution_count": 47,
     "metadata": {},
     "output_type": "execute_result"
    }
   ],
   "source": [
    "log_reg_semi.score(X_test, y_test)"
   ]
  },
  {
   "cell_type": "markdown",
   "metadata": {},
   "source": [
    "That's good news, from 83.3% accuracy to 92.2%, although the training is only been done on 50 instances. Since its costly to manually label instances, especially when it has to be done manually by experts, it's a good idea to make them label representative instances rather than just random instances"
   ]
  },
  {
   "cell_type": "markdown",
   "metadata": {},
   "source": [
    "Next, ***label propogation*** should be a good idea. That is, propogating the labels to all the other instances that are in the same cluster"
   ]
  },
  {
   "cell_type": "code",
   "execution_count": 52,
   "metadata": {},
   "outputs": [],
   "source": [
    "y_train_propagated = np.empty(len(X_train), dtype=np.int32)\n",
    "for i in range(k):\n",
    "    y_train_propagated[kmeans_semi.labels_==i] = y_representative_digits[i]"
   ]
  },
  {
   "cell_type": "code",
   "execution_count": 56,
   "metadata": {},
   "outputs": [
    {
     "data": {
      "text/plain": [
       "LogisticRegression(max_iter=5000, multi_class='ovr', random_state=42)"
      ]
     },
     "execution_count": 56,
     "metadata": {},
     "output_type": "execute_result"
    }
   ],
   "source": [
    "log_reg_semi = LogisticRegression(multi_class=\"ovr\", solver=\"lbfgs\",\n",
    "                                  max_iter=5000, random_state=42)\n",
    "log_reg_semi.fit(X_train, y_train_propagated)"
   ]
  },
  {
   "cell_type": "code",
   "execution_count": 57,
   "metadata": {},
   "outputs": [
    {
     "data": {
      "text/plain": [
       "0.9333333333333333"
      ]
     },
     "execution_count": 57,
     "metadata": {},
     "output_type": "execute_result"
    }
   ],
   "source": [
    "log_reg_semi.score(X_test, y_test)"
   ]
  },
  {
   "cell_type": "markdown",
   "metadata": {},
   "source": [
    "A reasonable accuracy boost. We should probably had propagated the labels only to instances closest to the centroid, because by propagating to the whole cluster, we have clearly mislabeled instances close to the boundries of the cluster.\n",
    "\n",
    "Let's propagate the labels to the 75th percentile closest to the centroid"
   ]
  },
  {
   "cell_type": "code",
   "execution_count": 58,
   "metadata": {},
   "outputs": [],
   "source": [
    "percentile_closest = 75\n",
    "\n",
    "X_cluster_dist = X_digits_dist[np.arange(len(X_train)), kmeans_semi.labels_]\n",
    "for i in range(k):\n",
    "    in_cluster = (kmeans_semi.labels_==i)\n",
    "    cluster_dist = X_cluster_dist[in_cluster]\n",
    "    cutoff_distance = np.percentile(cluster_dist, percentile_closest)\n",
    "    above_cutoff = (X_cluster_dist> cutoff_distance)\n",
    "    X_cluster_dist[in_cluster & above_cutoff] = -1"
   ]
  },
  {
   "cell_type": "code",
   "execution_count": 59,
   "metadata": {},
   "outputs": [],
   "source": [
    "partially_propogated = (X_cluster_dist != -1)\n",
    "X_train_partially_propogated = X_train[partially_propogated]\n",
    "y_train_partially_propogated = y_train_propagated[partially_propogated]"
   ]
  },
  {
   "cell_type": "code",
   "execution_count": 60,
   "metadata": {},
   "outputs": [
    {
     "data": {
      "text/plain": [
       "LogisticRegression(max_iter=5000, multi_class='ovr', random_state=42)"
      ]
     },
     "execution_count": 60,
     "metadata": {},
     "output_type": "execute_result"
    }
   ],
   "source": [
    "log_reg_semi = LogisticRegression(multi_class=\"ovr\", solver=\"lbfgs\",\n",
    "                                 max_iter=5000, random_state=42)\n",
    "log_reg_semi.fit(X_train_partially_propogated, y_train_partially_propogated)"
   ]
  },
  {
   "cell_type": "code",
   "execution_count": 61,
   "metadata": {},
   "outputs": [
    {
     "data": {
      "text/plain": [
       "0.9355555555555556"
      ]
     },
     "execution_count": 61,
     "metadata": {},
     "output_type": "execute_result"
    }
   ],
   "source": [
    "log_reg_semi.score(X_test, y_test)"
   ]
  },
  {
   "cell_type": "markdown",
   "metadata": {},
   "source": [
    "The score is a bit better than before (93.33%). With just 50 labeled instances \n",
    "(just 5 examples per class on average), we got 93.35% performance, which is getting closer to the performace of Logistic Regression on the fully labeled digits dataset (96.88%).\n",
    "\n",
    "This is because the propagated labels are actually pretty good. their accuracy is close to 97%"
   ]
  },
  {
   "cell_type": "code",
   "execution_count": 62,
   "metadata": {},
   "outputs": [
    {
     "data": {
      "text/plain": [
       "0.9750747756729811"
      ]
     },
     "execution_count": 62,
     "metadata": {},
     "output_type": "execute_result"
    }
   ],
   "source": [
    "np.mean(y_train_partially_propogated == y_train[partially_propogated])"
   ]
  },
  {
   "cell_type": "markdown",
   "metadata": {},
   "source": [
    "## DBSCAN"
   ]
  },
  {
   "cell_type": "markdown",
   "metadata": {},
   "source": [
    "**DBSCAN** algorithm defines clusters as continuous regions of high density. It works in the following manner:\n",
    "- For each instance, the algorithm counts how many other instances are located within a small distance $\\epsilon$ from it. This region is called the instances $\\epsilon$_-neighborhood_.\n",
    "- If an instances has at least **min_samples** instances in its $\\epsilon$-neighborhood (including itself), then its considered a **core instance**. That is, **core instances** are those that're located in dense regions.\n",
    "- All instances in the neighborhood of a **core instance** belong to the same cluster. This neighborhood may include multiple core instances; therefore, **a long sequence of neighboring core instances forms a single cluster**. \n",
    "- Any instance that isn't a **core instance** and doesn't have any one in it's neighborhood is considered an anomlay.\n",
    "\n",
    "This algorithm **works well if all the clusters are dense enoguh and if they're well separated by low-density regions**."
   ]
  },
  {
   "cell_type": "code",
   "execution_count": 73,
   "metadata": {},
   "outputs": [],
   "source": [
    "X, y = make_moons(n_samples=1000, noise=0.05, random_state=42)"
   ]
  },
  {
   "cell_type": "code",
   "execution_count": 74,
   "metadata": {},
   "outputs": [
    {
     "data": {
      "text/plain": [
       "DBSCAN(eps=0.05)"
      ]
     },
     "execution_count": 74,
     "metadata": {},
     "output_type": "execute_result"
    }
   ],
   "source": [
    "dbscan = DBSCAN(eps=0.05, min_samples=5)\n",
    "dbscan.fit(X)"
   ]
  },
  {
   "cell_type": "markdown",
   "metadata": {},
   "source": [
    "Let's check the labels and the assigned labels of the first 10 instances"
   ]
  },
  {
   "cell_type": "code",
   "execution_count": 75,
   "metadata": {},
   "outputs": [
    {
     "data": {
      "text/plain": [
       "array([ 0,  2, -1, -1,  1,  0,  0,  0,  2,  5], dtype=int64)"
      ]
     },
     "execution_count": 75,
     "metadata": {},
     "output_type": "execute_result"
    }
   ],
   "source": [
    "dbscan.labels_[:10]"
   ]
  },
  {
   "cell_type": "code",
   "execution_count": 81,
   "metadata": {},
   "outputs": [
    {
     "data": {
      "text/plain": [
       "array([-1,  0,  1,  2,  3,  4,  5,  6], dtype=int64)"
      ]
     },
     "execution_count": 81,
     "metadata": {},
     "output_type": "execute_result"
    }
   ],
   "source": [
    "np.unique(dbscan.labels_)"
   ]
  },
  {
   "cell_type": "markdown",
   "metadata": {},
   "source": [
    "Some instances have a cluster index of -1, which means that they're considered anomalies.\n",
    "\n",
    "The **indices of the core instances**:"
   ]
  },
  {
   "cell_type": "code",
   "execution_count": 76,
   "metadata": {},
   "outputs": [
    {
     "data": {
      "text/plain": [
       "808"
      ]
     },
     "execution_count": 76,
     "metadata": {},
     "output_type": "execute_result"
    }
   ],
   "source": [
    "len(dbscan.core_sample_indices_)"
   ]
  },
  {
   "cell_type": "code",
   "execution_count": 80,
   "metadata": {},
   "outputs": [
    {
     "data": {
      "text/plain": [
       "array([ 0,  4,  5,  6,  7,  8, 10, 11, 12, 13], dtype=int64)"
      ]
     },
     "execution_count": 80,
     "metadata": {},
     "output_type": "execute_result"
    }
   ],
   "source": [
    "dbscan.core_sample_indices_[:10]"
   ]
  },
  {
   "cell_type": "markdown",
   "metadata": {},
   "source": [
    "The **core instances** themselves:"
   ]
  },
  {
   "cell_type": "code",
   "execution_count": 79,
   "metadata": {},
   "outputs": [
    {
     "data": {
      "text/plain": [
       "array([[-0.02137124,  0.40618608],\n",
       "       [-0.84192557,  0.53058695],\n",
       "       [ 0.58930337, -0.32137599],\n",
       "       ...,\n",
       "       [ 1.66258462, -0.3079193 ],\n",
       "       [-0.94355873,  0.3278936 ],\n",
       "       [ 0.79419406,  0.60777171]])"
      ]
     },
     "execution_count": 79,
     "metadata": {},
     "output_type": "execute_result"
    }
   ],
   "source": [
    "dbscan.components_"
   ]
  },
  {
   "cell_type": "markdown",
   "metadata": {},
   "source": [
    "The following figure 9-14 compares between 2 degrees of **eps**: 0.05 and 0.2. "
   ]
  },
  {
   "cell_type": "code",
   "execution_count": 84,
   "metadata": {},
   "outputs": [
    {
     "data": {
      "text/plain": [
       "DBSCAN(eps=0.2)"
      ]
     },
     "execution_count": 84,
     "metadata": {},
     "output_type": "execute_result"
    }
   ],
   "source": [
    "dbscan2 = DBSCAN(eps=0.2, min_samples=5)\n",
    "dbscan2.fit(X)"
   ]
  },
  {
   "cell_type": "code",
   "execution_count": 97,
   "metadata": {},
   "outputs": [],
   "source": [
    "def plot_dbscan(dbscan, X, size, show_xlabels=True, show_ylabels=True):\n",
    "    core_mask = np.zeros_like(dbscan.labels_ ,dtype=bool)\n",
    "    core_mask[dbscan.core_sample_indices_] = True\n",
    "    anomalies_mask = dbscan.labels_ == -1\n",
    "    non_core_mask = ~(core_mask | anomalies_mask)\n",
    "    \n",
    "    cores = dbscan.components_\n",
    "    anomalies = X[anomalies_mask]\n",
    "    non_cores = X[non_core_mask]\n",
    "    \n",
    "    plt.scatter(cores[:, 0], cores[:, 1], c=dbscan.labels_[core_mask], s=size,\n",
    "                marker=\"o\", cmap=\"Paired\")\n",
    "    plt.scatter(cores[:, 0], cores[:, 1], c=dbscan.labels_[core_mask], s=20,\n",
    "               marker=\"*\")\n",
    "    plt.scatter(anomalies[:, 0], anomalies[:, 1], c=\"r\", s=100, marker=\"x\")\n",
    "    plt.scatter(non_cores[:, 0], non_cores[:, 1], c=dbscan.labels_[non_core_mask],\n",
    "                marker=\".\")\n",
    "    \n",
    "    if show_xlabels:\n",
    "        plt.xlabel(\"$x_1$\", fontsize=14)\n",
    "    else: \n",
    "        plt.tick_params(labelbottom=False)\n",
    "    if show_ylabels:\n",
    "        plt.ylabel(\"$x_2$\", rotation=0, fontsize=14)\n",
    "    else:\n",
    "        plt.tick_params(labelleft=False)\n",
    "        \n",
    "    plt.title(\"eps={:.2f}, min_samples={}\".format(dbscan.eps, dbscan.min_samples),\n",
    "             fontsize=14)"
   ]
  },
  {
   "cell_type": "code",
   "execution_count": 98,
   "metadata": {},
   "outputs": [
    {
     "name": "stdout",
     "output_type": "stream",
     "text": [
      "Saving figure, Clustering - KMean, DBSCAN plotting with 2 different epsilons\n"
     ]
    },
    {
     "data": {
      "image/png": "[encoded data removed]",
      "text/plain": [
       "<Figure size 648x230.4 with 2 Axes>"
      ]
     },
     "metadata": {
      "needs_background": "light"
     },
     "output_type": "display_data"
    },
    {
     "name": "stdout",
     "output_type": "stream",
     "text": [
      "Figure 9-14\n"
     ]
    }
   ],
   "source": [
    "plt.figure(figsize=(9, 3.2))\n",
    "\n",
    "plt.subplot(121)\n",
    "plot_dbscan(dbscan, X, size=100)\n",
    "\n",
    "plt.subplot(122)\n",
    "plot_dbscan(dbscan2, X, size=600, show_ylabels=False)\n",
    "\n",
    "save_fig(\"Clustering - KMean, DBSCAN plotting with 2 different epsilons\")\n",
    "plt.show()\n",
    "print(\"Figure 9-14\")"
   ]
  },
  {
   "cell_type": "markdown",
   "metadata": {},
   "source": [
    "As we can see, when **eps=0.05** DBSCAN identifies quite a few anomalies and makes more clusters. If we widen each instance neighborhood by setting **eps=0.2**, we get the plot on the right"
   ]
  },
  {
   "cell_type": "markdown",
   "metadata": {},
   "source": [
    "**DBSCAN doesn't have a predict() method**, it has a **fit_predict() method instead**. That is, it can't predict which cluster a new instance belongs to. We can incorporate different classification algorithms that can perform a better job of predicting"
   ]
  },
  {
   "cell_type": "code",
   "execution_count": 100,
   "metadata": {},
   "outputs": [],
   "source": [
    "#Reset dbscan to the model that performed better (eps=0.2)\n",
    "dbscan = dbscan2"
   ]
  },
  {
   "cell_type": "code",
   "execution_count": 103,
   "metadata": {},
   "outputs": [
    {
     "data": {
      "text/plain": [
       "KNeighborsClassifier(n_neighbors=50)"
      ]
     },
     "execution_count": 103,
     "metadata": {},
     "output_type": "execute_result"
    }
   ],
   "source": [
    "knn = KNeighborsClassifier(n_neighbors=50)\n",
    "knn.fit(dbscan.components_, dbscan.labels_[dbscan.core_sample_indices_])"
   ]
  },
  {
   "cell_type": "markdown",
   "metadata": {},
   "source": [
    "Given a few new instances, we can predict which clusters they most likely belong to and estimate a probability for each cluster"
   ]
  },
  {
   "cell_type": "code",
   "execution_count": 104,
   "metadata": {},
   "outputs": [
    {
     "data": {
      "text/plain": [
       "array([1, 0, 1, 0], dtype=int64)"
      ]
     },
     "execution_count": 104,
     "metadata": {},
     "output_type": "execute_result"
    }
   ],
   "source": [
    "X_new = np.array([[-0.5, 0], [0, 0.5], [1, -0.1], [2, 1]])\n",
    "knn.predict(X_new)"
   ]
  },
  {
   "cell_type": "code",
   "execution_count": 105,
   "metadata": {},
   "outputs": [
    {
     "data": {
      "text/plain": [
       "array([[0.18, 0.82],\n",
       "       [1.  , 0.  ],\n",
       "       [0.12, 0.88],\n",
       "       [1.  , 0.  ]])"
      ]
     },
     "execution_count": 105,
     "metadata": {},
     "output_type": "execute_result"
    }
   ],
   "source": [
    "knn.predict_proba(X_new)"
   ]
  },
  {
   "cell_type": "markdown",
   "metadata": {},
   "source": [
    "**Note** we only trained it on the core instances, but we could've trained it on all the instances, or all but the anomalies - this depends on the final task"
   ]
  },
  {
   "cell_type": "markdown",
   "metadata": {},
   "source": [
    "The decision boundary is represented on figure 9-15, the crosses are the 4 new instances. \n",
    "\n",
    "Since there are no anomalies in the training set, the classifier always chooses a cluster, **even when its far away**. We can introduce a maximum distance, in which case the two instances that are far away are classified as anomalies. "
   ]
  },
  {
   "cell_type": "code",
   "execution_count": 110,
   "metadata": {},
   "outputs": [
    {
     "name": "stderr",
     "output_type": "stream",
     "text": [
      "<ipython-input-19-50808b416ee9>:22: UserWarning: The following kwargs were not used by contour: 'color'\n",
      "  plt.contour(Z, extent=(mins[0], maxs[0], mins[1], maxs[1]), linewidths=1,\n"
     ]
    },
    {
     "name": "stdout",
     "output_type": "stream",
     "text": [
      "Saving figure, Clustering - KMean, DBSCAN with KNN predict\n"
     ]
    },
    {
     "data": {
      "image/png": "[encoded data removed]",
      "text/plain": [
       "<Figure size 432x216 with 1 Axes>"
      ]
     },
     "metadata": {
      "needs_background": "light"
     },
     "output_type": "display_data"
    },
    {
     "name": "stdout",
     "output_type": "stream",
     "text": [
      "Figure 9-15\n"
     ]
    }
   ],
   "source": [
    "plt.figure(figsize=(6, 3))\n",
    "plot_decision_boundaries(knn, X, show_centroids=False)\n",
    "plt.scatter(X_new[:, 0], X_new[:, 1], c=\"b\", s=200, zorder=10, marker=\"+\")\n",
    "save_fig(\"Clustering - KMean, DBSCAN with KNN predict\")\n",
    "plt.show()\n",
    "print(\"Figure 9-15\")"
   ]
  },
  {
   "cell_type": "markdown",
   "metadata": {},
   "source": [
    "We'll use the **kneighbors()** method of KNeighborsClassifier classify the distant instances as anomalies. Given a set of instances, it returns the distances and indices of the $k$ nearest neighbors in the training set (2 matrices, each with $k$ columns)"
   ]
  },
  {
   "cell_type": "code",
   "execution_count": 111,
   "metadata": {},
   "outputs": [
    {
     "data": {
      "text/plain": [
       "array([-1,  0,  1, -1], dtype=int64)"
      ]
     },
     "execution_count": 111,
     "metadata": {},
     "output_type": "execute_result"
    }
   ],
   "source": [
    "y_dist, y_pred_idx = knn.kneighbors(X_new, n_neighbors=1)\n",
    "y_pred = dbscan.labels_[dbscan.core_sample_indices_][y_pred_idx]\n",
    "y_pred[y_dist > 0.2] = -1\n",
    "y_pred.ravel()"
   ]
  },
  {
   "cell_type": "markdown",
   "metadata": {},
   "source": [
    "DBSCAN is a powerful algorithm capable of identifying any number of clusters of any shape. It can deal with outliers, and it just has 2 hyperparameters (**eps** and **min_samples**). However, it will be impossible to capture all the clusters properly if the density varies significantly across the clusters.\n",
    "\n",
    "The computational complexity is around $O(mlogm)$, which is pretty close to linear with regard to the number of instances, **but Scikit Learn's implementation can require up to $O(m^2)$ memory if _eps_ is large.**"
   ]
  },
  {
   "cell_type": "markdown",
   "metadata": {},
   "source": [
    "## Other clustering algorithms"
   ]
  },
  {
   "cell_type": "markdown",
   "metadata": {},
   "source": [
    "- Agglomerative clustering\n",
    "    - A heirarchy of clusters is built from the bottom up. Like many tiny bubbles floating on water and gradually attaching to each other until there's one big group of bubbles. Similarly, at each iteration, **agglomerative clustering** connects the nearest pair of clusters (starting with individual instances). If you drew a tree with a branch for every pair of clusters that merged, you would get a binary tree of clusters, where the leaves are the individual instances. This approach scales very well to large numbers of instances or clusters. \n",
    "    \n",
    "    It can catch clusters of various shapes, it produces a flexible and informative cluster tree instead of forcing you to choose a particular cluster scale, and it can be used with any pairwise distance. It can scale nicely to large numbers of instances if you provide a connectivity matrix, which is a sparse $m \\times m$ matrix that indicates which pairs of instances are neighbors (e.g returned by **sklearn.neighbors.kneighbors_graph())**. Without a connectivity matrix, the algorithm doesn't scale well to large datasets.\n",
    "\n",
    "\n",
    "- BIRCH \n",
    "    - THe BIRCH (Balanced Iterative Reducing and Clustering using Hierarchies) algorithm was specifically designed gor very large datasets, and it can be faster than batch K-Means, with similar results, as long as the number of features isn't too large (<20). During training, it builds a tree structure containing just enough information to quickly assign a new instance to a cluster, without having to store all the instances in the tree: this approach allows it to use limited memory, while handling huge datasets.\n",
    "  \n",
    "  \n",
    "- Mean-Shift\n",
    "    - This algorithm starts by placing a circle around each instance; then for each circle it computes the mean of all the instances located within it, and it shifts the circle so that it will be centered to the mean. Next, it iterates this mean-shifting step until all the circles stop moving. **Mean-Shifts** shifts the circles in the direction of higher density, until each of them has found a local density maximum. Finally, all the instances whose circles have settled in the same place (or close by) are assigned to the same cluster. \n",
    "    \n",
    "    **Mean-Shift** and DBSCAN share some features, both can find any number of clusters of any shape, and they have very few hyperparameters (**Mean-Shift** has only one - ***bandwidth**, which is the radius of the circles) and they rely on local density estimation. But unlike DBSCAN, **Mean-Shift** tends to chop clusters into pieces when they have internal density variations. Unfortunately, it's computational complexity is $O(m^2)$, thus it's not suited for large datasets.\n",
    "\n",
    "\n",
    "- Affinity propagation\n",
    "    - This algorithm uses a voting system, where instances vote for similar instances to be their representatives, and once the algorithm converges, each representative and its voters form into a cluster. **Affinity propagation** can detect any number of clusters of different sizes. Unfortunatelu, it's computational complexity is $O(m^2)$, so it too can deal with large datasets.\n",
    "\n",
    "    \n",
    "- Spectral clustering\n",
    "     - This algorithm takes a similarity matrix between the instances and creates a low-dimensional embedding from it (i.e, it reduces its dimensionality), then it uses another algorithm in this low-dimensionality space (Scikit Learn's implementation uses K-Means). Spectral clustering can capture complex cluster structures, and it can also be used to cut graphs (e.g, to identify clusters of friends on a social network). Unfortunately, it doesn't scale well to large numbers of instances, and it doesn't behave well when the clusters have very different sizes."
   ]
  },
  {
   "cell_type": "markdown",
   "metadata": {},
   "source": [
    "Let's implement **Agglomerative clustering**"
   ]
  },
  {
   "cell_type": "code",
   "execution_count": 129,
   "metadata": {},
   "outputs": [],
   "source": [
    "X = np.array([0, 2, 5, 8.5]).reshape(-1, 1)\n",
    "agg = AgglomerativeClustering(linkage=\"complete\").fit(X)"
   ]
  },
  {
   "cell_type": "code",
   "execution_count": 132,
   "metadata": {},
   "outputs": [],
   "source": [
    "def learned_parameters(estimator):\n",
    "    return [attrib for attrib in dir(estimator)\n",
    "            if attrib.endswith(\"_\") and not attrib.startswith(\"_\")]"
   ]
  },
  {
   "cell_type": "code",
   "execution_count": 133,
   "metadata": {},
   "outputs": [
    {
     "data": {
      "text/plain": [
       "['children_',\n",
       " 'labels_',\n",
       " 'n_clusters_',\n",
       " 'n_connected_components_',\n",
       " 'n_features_in_',\n",
       " 'n_leaves_']"
      ]
     },
     "execution_count": 133,
     "metadata": {},
     "output_type": "execute_result"
    }
   ],
   "source": [
    "learned_parameters(agg)"
   ]
  },
  {
   "cell_type": "code",
   "execution_count": 134,
   "metadata": {},
   "outputs": [
    {
     "data": {
      "text/plain": [
       "array([[0, 1],\n",
       "       [2, 3],\n",
       "       [4, 5]])"
      ]
     },
     "execution_count": 134,
     "metadata": {},
     "output_type": "execute_result"
    }
   ],
   "source": [
    "agg.children_"
   ]
  },
  {
   "cell_type": "markdown",
   "metadata": {},
   "source": [
    "Let's implement **Spectral clustering**"
   ]
  },
  {
   "cell_type": "code",
   "execution_count": 113,
   "metadata": {},
   "outputs": [
    {
     "data": {
      "text/plain": [
       "SpectralClustering(gamma=100, n_clusters=2, random_state=42)"
      ]
     },
     "execution_count": 113,
     "metadata": {},
     "output_type": "execute_result"
    }
   ],
   "source": [
    "sc1 = SpectralClustering(n_clusters=2, gamma=100, random_state=42)\n",
    "sc1.fit(X)"
   ]
  },
  {
   "cell_type": "code",
   "execution_count": 114,
   "metadata": {},
   "outputs": [
    {
     "data": {
      "text/plain": [
       "SpectralClustering(gamma=1, n_clusters=2, random_state=42)"
      ]
     },
     "execution_count": 114,
     "metadata": {},
     "output_type": "execute_result"
    }
   ],
   "source": [
    "sc2 = SpectralClustering(n_clusters=2, gamma=1, random_state=42)\n",
    "sc2.fit(X)"
   ]
  },
  {
   "cell_type": "code",
   "execution_count": 115,
   "metadata": {},
   "outputs": [
    {
     "data": {
      "text/plain": [
       "0.04251990648936265"
      ]
     },
     "execution_count": 115,
     "metadata": {},
     "output_type": "execute_result"
    }
   ],
   "source": [
    "np.percentile(sc1.affinity_matrix_, 95)"
   ]
  },
  {
   "cell_type": "code",
   "execution_count": 121,
   "metadata": {},
   "outputs": [],
   "source": [
    "def plot_spectral_clustering(sc, X, size, alpha, show_xlabels=True,\n",
    "                             show_ylabels=True):\n",
    "    plt.scatter(X[:, 0], X[:, 1], marker=\"o\", c=\"gray\", s=size, cmap=\"Paired\",\n",
    "                alpha=alpha)\n",
    "    plt.scatter(X[:, 0], X[:, 1], marker=\"o\", c=\"w\", s=30)\n",
    "    plt.scatter(X[:, 0], X[:, 1], marker=\".\", c=sc.labels_, s=10, cmap=\"Paired\")\n",
    "    \n",
    "    if show_xlabels:\n",
    "        plt.xlabel(\"$x_1$\", fontsize=14)\n",
    "    else:\n",
    "        plt.tick_params(labelbottom=False)\n",
    "    if show_ylabels:\n",
    "        plt.ylabel(\"$x_2$\", rotation=0, fontsize=14)\n",
    "    else:\n",
    "        plt.tick_params(labelleft=False)\n",
    "    \n",
    "    plt.title(\"RBF gamma={}\".format(sc.gamma), fontsize=14)"
   ]
  },
  {
   "cell_type": "code",
   "execution_count": 122,
   "metadata": {},
   "outputs": [
    {
     "data": {
      "image/png": "[encoded data removed]",
      "text/plain": [
       "<Figure size 648x230.4 with 2 Axes>"
      ]
     },
     "metadata": {
      "needs_background": "light"
     },
     "output_type": "display_data"
    }
   ],
   "source": [
    "plt.figure(figsize=(9, 3.2))\n",
    "\n",
    "plt.subplot(121)\n",
    "plot_spectral_clustering(sc1, X, size=500, alpha=0.1)\n",
    "\n",
    "plt.subplot(122)\n",
    "plot_spectral_clustering(sc2, X, size=4000, alpha=0.01, show_ylabels=False)\n",
    "\n",
    "plt.show()"
   ]
  },
  {
   "cell_type": "markdown",
   "metadata": {},
   "source": [
    "# End Of Section: Clustering"
   ]
  },
  {
   "cell_type": "code",
   "execution_count": null,
   "metadata": {},
   "outputs": [],
   "source": []
  },
  {
   "cell_type": "code",
   "execution_count": null,
   "metadata": {},
   "outputs": [],
   "source": []
  },
  {
   "cell_type": "markdown",
   "metadata": {},
   "source": [
    "# Section: Gaussian Mixtures"
   ]
  },
  {
   "cell_type": "markdown",
   "metadata": {},
   "source": [
    "**Gaussian mixture model (GMM)** is a probabilistic model that assumes that the instances were generated from a mixture of several Gaussian distributions whose parameters are unknown. A single Gaussian distribution form a cluster that looks like an ellipsoid. Each ellipsoid can have a different shape, size, density and orientation. \n",
    "\n",
    "You can't infer from which Gaussian distribution an instances was generated, nor the parameters of the distribution."
   ]
  },
  {
   "cell_type": "markdown",
   "metadata": {},
   "source": [
    "There are several variants to **GMM**. The most basic form, GaussianMixture class, requires from you to know the number $k$ of Gaussian distributions. \n",
    "\n",
    "The dataset $X$ is assumed to have been generated through the following probabilistic process:"
   ]
  },
  {
   "cell_type": "markdown",
   "metadata": {},
   "source": [
    "- For each instance, a cluster is picked randomly from among $k$ clusters. The probability of choosing the $j^{th}$ cluster is definied by the cluster's weight, $\\phi^{(j)}$. The index of the cluster chosen for the $i^{th}$ instance is noted $z^{(i)}$"
   ]
  },
  {
   "cell_type": "code",
   "execution_count": null,
   "metadata": {},
   "outputs": [],
   "source": []
  }
 ],
 "metadata": {
  "kernelspec": {
   "display_name": " HO_UnsupervisedLearning",
   "language": "python",
   "name": "ho_unsupervisedlearning"
  },
  "language_info": {
   "codemirror_mode": {
    "name": "ipython",
    "version": 3
   },
   "file_extension": ".py",
   "mimetype": "text/x-python",
   "name": "python",
   "nbconvert_exporter": "python",
   "pygments_lexer": "ipython3",
   "version": "3.8.5"
  }
 },
 "nbformat": 4,
 "nbformat_minor": 4
}
